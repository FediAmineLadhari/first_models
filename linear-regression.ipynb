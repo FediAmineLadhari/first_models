{
 "cells": [
  {
   "cell_type": "code",
   "execution_count": 1,
   "id": "42fa955b",
   "metadata": {
    "execution": {
     "iopub.execute_input": "2023-08-29T16:42:05.191797Z",
     "iopub.status.busy": "2023-08-29T16:42:05.191378Z",
     "iopub.status.idle": "2023-08-29T16:42:05.197203Z",
     "shell.execute_reply": "2023-08-29T16:42:05.195942Z"
    },
    "papermill": {
     "duration": 0.019415,
     "end_time": "2023-08-29T16:42:05.201554",
     "exception": false,
     "start_time": "2023-08-29T16:42:05.182139",
     "status": "completed"
    },
    "tags": []
   },
   "outputs": [],
   "source": [
    "#!pip3 install optuna\n",
    "#!pip3 install category-encoders\n",
    "#!pip3 install xgboost"
   ]
  },
  {
   "cell_type": "code",
   "execution_count": 2,
   "id": "5cfc2f58",
   "metadata": {
    "execution": {
     "iopub.execute_input": "2023-08-29T16:42:05.218369Z",
     "iopub.status.busy": "2023-08-29T16:42:05.217663Z",
     "iopub.status.idle": "2023-08-29T16:42:05.222071Z",
     "shell.execute_reply": "2023-08-29T16:42:05.221154Z"
    },
    "papermill": {
     "duration": 0.015374,
     "end_time": "2023-08-29T16:42:05.224465",
     "exception": false,
     "start_time": "2023-08-29T16:42:05.209091",
     "status": "completed"
    },
    "tags": []
   },
   "outputs": [],
   "source": [
    "#pip install --upgrade category-encoders"
   ]
  },
  {
   "cell_type": "code",
   "execution_count": 3,
   "id": "5fe1ebb6",
   "metadata": {
    "_cell_guid": "b1076dfc-b9ad-4769-8c92-a6c4dae69d19",
    "_uuid": "8f2839f25d086af736a60e9eeb907d3b93b6e0e5",
    "execution": {
     "iopub.execute_input": "2023-08-29T16:42:05.242675Z",
     "iopub.status.busy": "2023-08-29T16:42:05.241906Z",
     "iopub.status.idle": "2023-08-29T16:42:07.325416Z",
     "shell.execute_reply": "2023-08-29T16:42:07.324118Z"
    },
    "papermill": {
     "duration": 2.094714,
     "end_time": "2023-08-29T16:42:07.327960",
     "exception": false,
     "start_time": "2023-08-29T16:42:05.233246",
     "status": "completed"
    },
    "tags": []
   },
   "outputs": [
    {
     "name": "stderr",
     "output_type": "stream",
     "text": [
      "/opt/conda/lib/python3.10/site-packages/scipy/__init__.py:146: UserWarning: A NumPy version >=1.16.5 and <1.23.0 is required for this version of SciPy (detected version 1.23.5\n",
      "  warnings.warn(f\"A NumPy version >={np_minversion} and <{np_maxversion}\"\n"
     ]
    },
    {
     "name": "stdout",
     "output_type": "stream",
     "text": [
      "/kaggle/input/insurance/insurance.csv\n"
     ]
    }
   ],
   "source": [
    "import numpy as np \n",
    "import pandas as pd \n",
    "from category_encoders import OneHotEncoder\n",
    "from sklearn.linear_model import LinearRegression,ElasticNet,Ridge,Lasso\n",
    "from sklearn.model_selection import train_test_split\n",
    "from sklearn.preprocessing import StandardScaler\n",
    "import os\n",
    "for dirname, _, filenames in os.walk('/kaggle/input'):\n",
    "    for filename in filenames:\n",
    "        print(os.path.join(dirname, filename))"
   ]
  },
  {
   "cell_type": "code",
   "execution_count": 4,
   "id": "c6f63477",
   "metadata": {
    "execution": {
     "iopub.execute_input": "2023-08-29T16:42:07.344885Z",
     "iopub.status.busy": "2023-08-29T16:42:07.344474Z",
     "iopub.status.idle": "2023-08-29T16:42:07.370673Z",
     "shell.execute_reply": "2023-08-29T16:42:07.369483Z"
    },
    "papermill": {
     "duration": 0.037706,
     "end_time": "2023-08-29T16:42:07.373350",
     "exception": false,
     "start_time": "2023-08-29T16:42:07.335644",
     "status": "completed"
    },
    "tags": []
   },
   "outputs": [],
   "source": [
    "ins=pd.read_csv(\"/kaggle/input/insurance/insurance.csv\")"
   ]
  },
  {
   "cell_type": "code",
   "execution_count": 5,
   "id": "2c664805",
   "metadata": {
    "execution": {
     "iopub.execute_input": "2023-08-29T16:42:07.391004Z",
     "iopub.status.busy": "2023-08-29T16:42:07.390565Z",
     "iopub.status.idle": "2023-08-29T16:42:07.452982Z",
     "shell.execute_reply": "2023-08-29T16:42:07.451717Z"
    },
    "papermill": {
     "duration": 0.074217,
     "end_time": "2023-08-29T16:42:07.455717",
     "exception": false,
     "start_time": "2023-08-29T16:42:07.381500",
     "status": "completed"
    },
    "tags": []
   },
   "outputs": [
    {
     "data": {
      "text/html": [
       "<style>#sk-container-id-1 {color: black;background-color: white;}#sk-container-id-1 pre{padding: 0;}#sk-container-id-1 div.sk-toggleable {background-color: white;}#sk-container-id-1 label.sk-toggleable__label {cursor: pointer;display: block;width: 100%;margin-bottom: 0;padding: 0.3em;box-sizing: border-box;text-align: center;}#sk-container-id-1 label.sk-toggleable__label-arrow:before {content: \"▸\";float: left;margin-right: 0.25em;color: #696969;}#sk-container-id-1 label.sk-toggleable__label-arrow:hover:before {color: black;}#sk-container-id-1 div.sk-estimator:hover label.sk-toggleable__label-arrow:before {color: black;}#sk-container-id-1 div.sk-toggleable__content {max-height: 0;max-width: 0;overflow: hidden;text-align: left;background-color: #f0f8ff;}#sk-container-id-1 div.sk-toggleable__content pre {margin: 0.2em;color: black;border-radius: 0.25em;background-color: #f0f8ff;}#sk-container-id-1 input.sk-toggleable__control:checked~div.sk-toggleable__content {max-height: 200px;max-width: 100%;overflow: auto;}#sk-container-id-1 input.sk-toggleable__control:checked~label.sk-toggleable__label-arrow:before {content: \"▾\";}#sk-container-id-1 div.sk-estimator input.sk-toggleable__control:checked~label.sk-toggleable__label {background-color: #d4ebff;}#sk-container-id-1 div.sk-label input.sk-toggleable__control:checked~label.sk-toggleable__label {background-color: #d4ebff;}#sk-container-id-1 input.sk-hidden--visually {border: 0;clip: rect(1px 1px 1px 1px);clip: rect(1px, 1px, 1px, 1px);height: 1px;margin: -1px;overflow: hidden;padding: 0;position: absolute;width: 1px;}#sk-container-id-1 div.sk-estimator {font-family: monospace;background-color: #f0f8ff;border: 1px dotted black;border-radius: 0.25em;box-sizing: border-box;margin-bottom: 0.5em;}#sk-container-id-1 div.sk-estimator:hover {background-color: #d4ebff;}#sk-container-id-1 div.sk-parallel-item::after {content: \"\";width: 100%;border-bottom: 1px solid gray;flex-grow: 1;}#sk-container-id-1 div.sk-label:hover label.sk-toggleable__label {background-color: #d4ebff;}#sk-container-id-1 div.sk-serial::before {content: \"\";position: absolute;border-left: 1px solid gray;box-sizing: border-box;top: 0;bottom: 0;left: 50%;z-index: 0;}#sk-container-id-1 div.sk-serial {display: flex;flex-direction: column;align-items: center;background-color: white;padding-right: 0.2em;padding-left: 0.2em;position: relative;}#sk-container-id-1 div.sk-item {position: relative;z-index: 1;}#sk-container-id-1 div.sk-parallel {display: flex;align-items: stretch;justify-content: center;background-color: white;position: relative;}#sk-container-id-1 div.sk-item::before, #sk-container-id-1 div.sk-parallel-item::before {content: \"\";position: absolute;border-left: 1px solid gray;box-sizing: border-box;top: 0;bottom: 0;left: 50%;z-index: -1;}#sk-container-id-1 div.sk-parallel-item {display: flex;flex-direction: column;z-index: 1;position: relative;background-color: white;}#sk-container-id-1 div.sk-parallel-item:first-child::after {align-self: flex-end;width: 50%;}#sk-container-id-1 div.sk-parallel-item:last-child::after {align-self: flex-start;width: 50%;}#sk-container-id-1 div.sk-parallel-item:only-child::after {width: 0;}#sk-container-id-1 div.sk-dashed-wrapped {border: 1px dashed gray;margin: 0 0.4em 0.5em 0.4em;box-sizing: border-box;padding-bottom: 0.4em;background-color: white;}#sk-container-id-1 div.sk-label label {font-family: monospace;font-weight: bold;display: inline-block;line-height: 1.2em;}#sk-container-id-1 div.sk-label-container {text-align: center;}#sk-container-id-1 div.sk-container {/* jupyter's `normalize.less` sets `[hidden] { display: none; }` but bootstrap.min.css set `[hidden] { display: none !important; }` so we also need the `!important` here to be able to override the default hidden behavior on the sphinx rendered scikit-learn.org. See: https://github.com/scikit-learn/scikit-learn/issues/21755 */display: inline-block !important;position: relative;}#sk-container-id-1 div.sk-text-repr-fallback {display: none;}</style><div id=\"sk-container-id-1\" class=\"sk-top-container\"><div class=\"sk-text-repr-fallback\"><pre>OneHotEncoder(cols=[&#x27;sex&#x27;, &#x27;smoker&#x27;, &#x27;region&#x27;])</pre><b>In a Jupyter environment, please rerun this cell to show the HTML representation or trust the notebook. <br />On GitHub, the HTML representation is unable to render, please try loading this page with nbviewer.org.</b></div><div class=\"sk-container\" hidden><div class=\"sk-item\"><div class=\"sk-estimator sk-toggleable\"><input class=\"sk-toggleable__control sk-hidden--visually\" id=\"sk-estimator-id-1\" type=\"checkbox\" checked><label for=\"sk-estimator-id-1\" class=\"sk-toggleable__label sk-toggleable__label-arrow\">OneHotEncoder</label><div class=\"sk-toggleable__content\"><pre>OneHotEncoder(cols=[&#x27;sex&#x27;, &#x27;smoker&#x27;, &#x27;region&#x27;])</pre></div></div></div></div></div>"
      ],
      "text/plain": [
       "OneHotEncoder(cols=['sex', 'smoker', 'region'])"
      ]
     },
     "execution_count": 5,
     "metadata": {},
     "output_type": "execute_result"
    }
   ],
   "source": [
    "encoder = OneHotEncoder()\n",
    "encoder.fit(ins)"
   ]
  },
  {
   "cell_type": "code",
   "execution_count": 6,
   "id": "6e5e9231",
   "metadata": {
    "execution": {
     "iopub.execute_input": "2023-08-29T16:42:07.473257Z",
     "iopub.status.busy": "2023-08-29T16:42:07.472811Z",
     "iopub.status.idle": "2023-08-29T16:42:07.490929Z",
     "shell.execute_reply": "2023-08-29T16:42:07.489787Z"
    },
    "papermill": {
     "duration": 0.030236,
     "end_time": "2023-08-29T16:42:07.493884",
     "exception": false,
     "start_time": "2023-08-29T16:42:07.463648",
     "status": "completed"
    },
    "tags": []
   },
   "outputs": [],
   "source": [
    "insurance = encoder.transform(ins)"
   ]
  },
  {
   "cell_type": "code",
   "execution_count": 7,
   "id": "18b3cb7c",
   "metadata": {
    "execution": {
     "iopub.execute_input": "2023-08-29T16:42:07.512010Z",
     "iopub.status.busy": "2023-08-29T16:42:07.511278Z",
     "iopub.status.idle": "2023-08-29T16:42:07.516216Z",
     "shell.execute_reply": "2023-08-29T16:42:07.515422Z"
    },
    "papermill": {
     "duration": 0.016625,
     "end_time": "2023-08-29T16:42:07.518540",
     "exception": false,
     "start_time": "2023-08-29T16:42:07.501915",
     "status": "completed"
    },
    "tags": []
   },
   "outputs": [],
   "source": [
    "features_to_scale = ['bmi','age','charges','children']"
   ]
  },
  {
   "cell_type": "code",
   "execution_count": 8,
   "id": "c5a6512d",
   "metadata": {
    "execution": {
     "iopub.execute_input": "2023-08-29T16:42:07.538094Z",
     "iopub.status.busy": "2023-08-29T16:42:07.537377Z",
     "iopub.status.idle": "2023-08-29T16:42:07.548584Z",
     "shell.execute_reply": "2023-08-29T16:42:07.547573Z"
    },
    "papermill": {
     "duration": 0.024417,
     "end_time": "2023-08-29T16:42:07.551068",
     "exception": false,
     "start_time": "2023-08-29T16:42:07.526651",
     "status": "completed"
    },
    "tags": []
   },
   "outputs": [],
   "source": [
    "scaler=StandardScaler()\n",
    "scaler.fit(insurance[features_to_scale])\n",
    "scaled_df = scaler.transform(insurance[features_to_scale])"
   ]
  },
  {
   "cell_type": "code",
   "execution_count": 9,
   "id": "f633d295",
   "metadata": {
    "execution": {
     "iopub.execute_input": "2023-08-29T16:42:07.569392Z",
     "iopub.status.busy": "2023-08-29T16:42:07.568609Z",
     "iopub.status.idle": "2023-08-29T16:42:07.582312Z",
     "shell.execute_reply": "2023-08-29T16:42:07.581129Z"
    },
    "papermill": {
     "duration": 0.02599,
     "end_time": "2023-08-29T16:42:07.585097",
     "exception": false,
     "start_time": "2023-08-29T16:42:07.559107",
     "status": "completed"
    },
    "tags": []
   },
   "outputs": [
    {
     "name": "stdout",
     "output_type": "stream",
     "text": [
      "        age  sex_1  sex_2       bmi  children  smoker_1  smoker_2  region_1  \\\n",
      "0 -1.438764      1      0 -0.453320 -0.908614         1         0         1   \n",
      "1 -1.509965      0      1  0.509621 -0.078767         0         1         0   \n",
      "2 -0.797954      0      1  0.383307  1.580926         0         1         0   \n",
      "3 -0.441948      0      1 -1.305531 -0.908614         0         1         0   \n",
      "4 -0.513149      0      1 -0.292556 -0.908614         0         1         0   \n",
      "\n",
      "   region_2  region_3  region_4   charges  \n",
      "0         0         0         0  0.298584  \n",
      "1         1         0         0 -0.953689  \n",
      "2         1         0         0 -0.728675  \n",
      "3         0         1         0  0.719843  \n",
      "4         0         1         0 -0.776802  \n"
     ]
    }
   ],
   "source": [
    "insurance[features_to_scale] = scaled_df\n",
    "print(insurance.head())"
   ]
  },
  {
   "cell_type": "code",
   "execution_count": 10,
   "id": "6d9cef2a",
   "metadata": {
    "execution": {
     "iopub.execute_input": "2023-08-29T16:42:07.604860Z",
     "iopub.status.busy": "2023-08-29T16:42:07.604137Z",
     "iopub.status.idle": "2023-08-29T16:42:07.615407Z",
     "shell.execute_reply": "2023-08-29T16:42:07.614197Z"
    },
    "papermill": {
     "duration": 0.024678,
     "end_time": "2023-08-29T16:42:07.618552",
     "exception": false,
     "start_time": "2023-08-29T16:42:07.593874",
     "status": "completed"
    },
    "tags": []
   },
   "outputs": [],
   "source": [
    "from sklearn.preprocessing import PolynomialFeatures\n",
    "X=insurance.drop('charges',axis=1)\n",
    "quad = PolynomialFeatures (degree = 2)\n",
    "x_quad = quad.fit_transform(X)"
   ]
  },
  {
   "cell_type": "code",
   "execution_count": 11,
   "id": "6626fc8c",
   "metadata": {
    "execution": {
     "iopub.execute_input": "2023-08-29T16:42:07.637048Z",
     "iopub.status.busy": "2023-08-29T16:42:07.636646Z",
     "iopub.status.idle": "2023-08-29T16:42:07.644349Z",
     "shell.execute_reply": "2023-08-29T16:42:07.643436Z"
    },
    "papermill": {
     "duration": 0.01967,
     "end_time": "2023-08-29T16:42:07.646672",
     "exception": false,
     "start_time": "2023-08-29T16:42:07.627002",
     "status": "completed"
    },
    "tags": []
   },
   "outputs": [],
   "source": [
    "x_train, x_test, y_train, y_test = train_test_split(x_quad, insurance['charges'],test_size=0.2,random_state=40)"
   ]
  },
  {
   "cell_type": "code",
   "execution_count": 12,
   "id": "2ce70871",
   "metadata": {
    "execution": {
     "iopub.execute_input": "2023-08-29T16:42:07.665774Z",
     "iopub.status.busy": "2023-08-29T16:42:07.664960Z",
     "iopub.status.idle": "2023-08-29T16:42:07.672708Z",
     "shell.execute_reply": "2023-08-29T16:42:07.671470Z"
    },
    "papermill": {
     "duration": 0.019987,
     "end_time": "2023-08-29T16:42:07.675016",
     "exception": false,
     "start_time": "2023-08-29T16:42:07.655029",
     "status": "completed"
    },
    "tags": []
   },
   "outputs": [
    {
     "name": "stdout",
     "output_type": "stream",
     "text": [
      "737    -0.808401\n",
      "369    -0.808605\n",
      "284    -0.301062\n",
      "1302   -0.831163\n",
      "958     2.293489\n",
      "          ...   \n",
      "1330   -0.052972\n",
      "1016   -0.872429\n",
      "165    -0.236532\n",
      "7      -0.494728\n",
      "219     0.975702\n",
      "Name: charges, Length: 1070, dtype: float64\n"
     ]
    }
   ],
   "source": [
    "print(y_train)"
   ]
  },
  {
   "cell_type": "code",
   "execution_count": 13,
   "id": "f959a0ae",
   "metadata": {
    "execution": {
     "iopub.execute_input": "2023-08-29T16:42:07.694769Z",
     "iopub.status.busy": "2023-08-29T16:42:07.693890Z",
     "iopub.status.idle": "2023-08-29T16:42:07.733428Z",
     "shell.execute_reply": "2023-08-29T16:42:07.732214Z"
    },
    "papermill": {
     "duration": 0.053485,
     "end_time": "2023-08-29T16:42:07.737409",
     "exception": false,
     "start_time": "2023-08-29T16:42:07.683924",
     "status": "completed"
    },
    "tags": []
   },
   "outputs": [
    {
     "data": {
      "text/html": [
       "<style>#sk-container-id-2 {color: black;background-color: white;}#sk-container-id-2 pre{padding: 0;}#sk-container-id-2 div.sk-toggleable {background-color: white;}#sk-container-id-2 label.sk-toggleable__label {cursor: pointer;display: block;width: 100%;margin-bottom: 0;padding: 0.3em;box-sizing: border-box;text-align: center;}#sk-container-id-2 label.sk-toggleable__label-arrow:before {content: \"▸\";float: left;margin-right: 0.25em;color: #696969;}#sk-container-id-2 label.sk-toggleable__label-arrow:hover:before {color: black;}#sk-container-id-2 div.sk-estimator:hover label.sk-toggleable__label-arrow:before {color: black;}#sk-container-id-2 div.sk-toggleable__content {max-height: 0;max-width: 0;overflow: hidden;text-align: left;background-color: #f0f8ff;}#sk-container-id-2 div.sk-toggleable__content pre {margin: 0.2em;color: black;border-radius: 0.25em;background-color: #f0f8ff;}#sk-container-id-2 input.sk-toggleable__control:checked~div.sk-toggleable__content {max-height: 200px;max-width: 100%;overflow: auto;}#sk-container-id-2 input.sk-toggleable__control:checked~label.sk-toggleable__label-arrow:before {content: \"▾\";}#sk-container-id-2 div.sk-estimator input.sk-toggleable__control:checked~label.sk-toggleable__label {background-color: #d4ebff;}#sk-container-id-2 div.sk-label input.sk-toggleable__control:checked~label.sk-toggleable__label {background-color: #d4ebff;}#sk-container-id-2 input.sk-hidden--visually {border: 0;clip: rect(1px 1px 1px 1px);clip: rect(1px, 1px, 1px, 1px);height: 1px;margin: -1px;overflow: hidden;padding: 0;position: absolute;width: 1px;}#sk-container-id-2 div.sk-estimator {font-family: monospace;background-color: #f0f8ff;border: 1px dotted black;border-radius: 0.25em;box-sizing: border-box;margin-bottom: 0.5em;}#sk-container-id-2 div.sk-estimator:hover {background-color: #d4ebff;}#sk-container-id-2 div.sk-parallel-item::after {content: \"\";width: 100%;border-bottom: 1px solid gray;flex-grow: 1;}#sk-container-id-2 div.sk-label:hover label.sk-toggleable__label {background-color: #d4ebff;}#sk-container-id-2 div.sk-serial::before {content: \"\";position: absolute;border-left: 1px solid gray;box-sizing: border-box;top: 0;bottom: 0;left: 50%;z-index: 0;}#sk-container-id-2 div.sk-serial {display: flex;flex-direction: column;align-items: center;background-color: white;padding-right: 0.2em;padding-left: 0.2em;position: relative;}#sk-container-id-2 div.sk-item {position: relative;z-index: 1;}#sk-container-id-2 div.sk-parallel {display: flex;align-items: stretch;justify-content: center;background-color: white;position: relative;}#sk-container-id-2 div.sk-item::before, #sk-container-id-2 div.sk-parallel-item::before {content: \"\";position: absolute;border-left: 1px solid gray;box-sizing: border-box;top: 0;bottom: 0;left: 50%;z-index: -1;}#sk-container-id-2 div.sk-parallel-item {display: flex;flex-direction: column;z-index: 1;position: relative;background-color: white;}#sk-container-id-2 div.sk-parallel-item:first-child::after {align-self: flex-end;width: 50%;}#sk-container-id-2 div.sk-parallel-item:last-child::after {align-self: flex-start;width: 50%;}#sk-container-id-2 div.sk-parallel-item:only-child::after {width: 0;}#sk-container-id-2 div.sk-dashed-wrapped {border: 1px dashed gray;margin: 0 0.4em 0.5em 0.4em;box-sizing: border-box;padding-bottom: 0.4em;background-color: white;}#sk-container-id-2 div.sk-label label {font-family: monospace;font-weight: bold;display: inline-block;line-height: 1.2em;}#sk-container-id-2 div.sk-label-container {text-align: center;}#sk-container-id-2 div.sk-container {/* jupyter's `normalize.less` sets `[hidden] { display: none; }` but bootstrap.min.css set `[hidden] { display: none !important; }` so we also need the `!important` here to be able to override the default hidden behavior on the sphinx rendered scikit-learn.org. See: https://github.com/scikit-learn/scikit-learn/issues/21755 */display: inline-block !important;position: relative;}#sk-container-id-2 div.sk-text-repr-fallback {display: none;}</style><div id=\"sk-container-id-2\" class=\"sk-top-container\"><div class=\"sk-text-repr-fallback\"><pre>LinearRegression()</pre><b>In a Jupyter environment, please rerun this cell to show the HTML representation or trust the notebook. <br />On GitHub, the HTML representation is unable to render, please try loading this page with nbviewer.org.</b></div><div class=\"sk-container\" hidden><div class=\"sk-item\"><div class=\"sk-estimator sk-toggleable\"><input class=\"sk-toggleable__control sk-hidden--visually\" id=\"sk-estimator-id-2\" type=\"checkbox\" checked><label for=\"sk-estimator-id-2\" class=\"sk-toggleable__label sk-toggleable__label-arrow\">LinearRegression</label><div class=\"sk-toggleable__content\"><pre>LinearRegression()</pre></div></div></div></div></div>"
      ],
      "text/plain": [
       "LinearRegression()"
      ]
     },
     "execution_count": 13,
     "metadata": {},
     "output_type": "execute_result"
    }
   ],
   "source": [
    "linreg=LinearRegression()\n",
    "linreg.fit(x_train,y_train)"
   ]
  },
  {
   "cell_type": "code",
   "execution_count": 14,
   "id": "f5098647",
   "metadata": {
    "execution": {
     "iopub.execute_input": "2023-08-29T16:42:07.777717Z",
     "iopub.status.busy": "2023-08-29T16:42:07.777047Z",
     "iopub.status.idle": "2023-08-29T16:42:07.806538Z",
     "shell.execute_reply": "2023-08-29T16:42:07.805384Z"
    },
    "papermill": {
     "duration": 0.054027,
     "end_time": "2023-08-29T16:42:07.810451",
     "exception": false,
     "start_time": "2023-08-29T16:42:07.756424",
     "status": "completed"
    },
    "tags": []
   },
   "outputs": [
    {
     "data": {
      "text/html": [
       "<style>#sk-container-id-3 {color: black;background-color: white;}#sk-container-id-3 pre{padding: 0;}#sk-container-id-3 div.sk-toggleable {background-color: white;}#sk-container-id-3 label.sk-toggleable__label {cursor: pointer;display: block;width: 100%;margin-bottom: 0;padding: 0.3em;box-sizing: border-box;text-align: center;}#sk-container-id-3 label.sk-toggleable__label-arrow:before {content: \"▸\";float: left;margin-right: 0.25em;color: #696969;}#sk-container-id-3 label.sk-toggleable__label-arrow:hover:before {color: black;}#sk-container-id-3 div.sk-estimator:hover label.sk-toggleable__label-arrow:before {color: black;}#sk-container-id-3 div.sk-toggleable__content {max-height: 0;max-width: 0;overflow: hidden;text-align: left;background-color: #f0f8ff;}#sk-container-id-3 div.sk-toggleable__content pre {margin: 0.2em;color: black;border-radius: 0.25em;background-color: #f0f8ff;}#sk-container-id-3 input.sk-toggleable__control:checked~div.sk-toggleable__content {max-height: 200px;max-width: 100%;overflow: auto;}#sk-container-id-3 input.sk-toggleable__control:checked~label.sk-toggleable__label-arrow:before {content: \"▾\";}#sk-container-id-3 div.sk-estimator input.sk-toggleable__control:checked~label.sk-toggleable__label {background-color: #d4ebff;}#sk-container-id-3 div.sk-label input.sk-toggleable__control:checked~label.sk-toggleable__label {background-color: #d4ebff;}#sk-container-id-3 input.sk-hidden--visually {border: 0;clip: rect(1px 1px 1px 1px);clip: rect(1px, 1px, 1px, 1px);height: 1px;margin: -1px;overflow: hidden;padding: 0;position: absolute;width: 1px;}#sk-container-id-3 div.sk-estimator {font-family: monospace;background-color: #f0f8ff;border: 1px dotted black;border-radius: 0.25em;box-sizing: border-box;margin-bottom: 0.5em;}#sk-container-id-3 div.sk-estimator:hover {background-color: #d4ebff;}#sk-container-id-3 div.sk-parallel-item::after {content: \"\";width: 100%;border-bottom: 1px solid gray;flex-grow: 1;}#sk-container-id-3 div.sk-label:hover label.sk-toggleable__label {background-color: #d4ebff;}#sk-container-id-3 div.sk-serial::before {content: \"\";position: absolute;border-left: 1px solid gray;box-sizing: border-box;top: 0;bottom: 0;left: 50%;z-index: 0;}#sk-container-id-3 div.sk-serial {display: flex;flex-direction: column;align-items: center;background-color: white;padding-right: 0.2em;padding-left: 0.2em;position: relative;}#sk-container-id-3 div.sk-item {position: relative;z-index: 1;}#sk-container-id-3 div.sk-parallel {display: flex;align-items: stretch;justify-content: center;background-color: white;position: relative;}#sk-container-id-3 div.sk-item::before, #sk-container-id-3 div.sk-parallel-item::before {content: \"\";position: absolute;border-left: 1px solid gray;box-sizing: border-box;top: 0;bottom: 0;left: 50%;z-index: -1;}#sk-container-id-3 div.sk-parallel-item {display: flex;flex-direction: column;z-index: 1;position: relative;background-color: white;}#sk-container-id-3 div.sk-parallel-item:first-child::after {align-self: flex-end;width: 50%;}#sk-container-id-3 div.sk-parallel-item:last-child::after {align-self: flex-start;width: 50%;}#sk-container-id-3 div.sk-parallel-item:only-child::after {width: 0;}#sk-container-id-3 div.sk-dashed-wrapped {border: 1px dashed gray;margin: 0 0.4em 0.5em 0.4em;box-sizing: border-box;padding-bottom: 0.4em;background-color: white;}#sk-container-id-3 div.sk-label label {font-family: monospace;font-weight: bold;display: inline-block;line-height: 1.2em;}#sk-container-id-3 div.sk-label-container {text-align: center;}#sk-container-id-3 div.sk-container {/* jupyter's `normalize.less` sets `[hidden] { display: none; }` but bootstrap.min.css set `[hidden] { display: none !important; }` so we also need the `!important` here to be able to override the default hidden behavior on the sphinx rendered scikit-learn.org. See: https://github.com/scikit-learn/scikit-learn/issues/21755 */display: inline-block !important;position: relative;}#sk-container-id-3 div.sk-text-repr-fallback {display: none;}</style><div id=\"sk-container-id-3\" class=\"sk-top-container\"><div class=\"sk-text-repr-fallback\"><pre>Ridge(alpha=0.001)</pre><b>In a Jupyter environment, please rerun this cell to show the HTML representation or trust the notebook. <br />On GitHub, the HTML representation is unable to render, please try loading this page with nbviewer.org.</b></div><div class=\"sk-container\" hidden><div class=\"sk-item\"><div class=\"sk-estimator sk-toggleable\"><input class=\"sk-toggleable__control sk-hidden--visually\" id=\"sk-estimator-id-3\" type=\"checkbox\" checked><label for=\"sk-estimator-id-3\" class=\"sk-toggleable__label sk-toggleable__label-arrow\">Ridge</label><div class=\"sk-toggleable__content\"><pre>Ridge(alpha=0.001)</pre></div></div></div></div></div>"
      ],
      "text/plain": [
       "Ridge(alpha=0.001)"
      ]
     },
     "execution_count": 14,
     "metadata": {},
     "output_type": "execute_result"
    }
   ],
   "source": [
    "ridgereg = Ridge(alpha=0.001)\n",
    "ridgereg.fit(x_train, y_train)"
   ]
  },
  {
   "cell_type": "code",
   "execution_count": 15,
   "id": "4e8812fc",
   "metadata": {
    "execution": {
     "iopub.execute_input": "2023-08-29T16:42:07.879220Z",
     "iopub.status.busy": "2023-08-29T16:42:07.878523Z",
     "iopub.status.idle": "2023-08-29T16:42:07.920461Z",
     "shell.execute_reply": "2023-08-29T16:42:07.919338Z"
    },
    "papermill": {
     "duration": 0.087576,
     "end_time": "2023-08-29T16:42:07.924344",
     "exception": false,
     "start_time": "2023-08-29T16:42:07.836768",
     "status": "completed"
    },
    "tags": []
   },
   "outputs": [
    {
     "data": {
      "text/html": [
       "<style>#sk-container-id-4 {color: black;background-color: white;}#sk-container-id-4 pre{padding: 0;}#sk-container-id-4 div.sk-toggleable {background-color: white;}#sk-container-id-4 label.sk-toggleable__label {cursor: pointer;display: block;width: 100%;margin-bottom: 0;padding: 0.3em;box-sizing: border-box;text-align: center;}#sk-container-id-4 label.sk-toggleable__label-arrow:before {content: \"▸\";float: left;margin-right: 0.25em;color: #696969;}#sk-container-id-4 label.sk-toggleable__label-arrow:hover:before {color: black;}#sk-container-id-4 div.sk-estimator:hover label.sk-toggleable__label-arrow:before {color: black;}#sk-container-id-4 div.sk-toggleable__content {max-height: 0;max-width: 0;overflow: hidden;text-align: left;background-color: #f0f8ff;}#sk-container-id-4 div.sk-toggleable__content pre {margin: 0.2em;color: black;border-radius: 0.25em;background-color: #f0f8ff;}#sk-container-id-4 input.sk-toggleable__control:checked~div.sk-toggleable__content {max-height: 200px;max-width: 100%;overflow: auto;}#sk-container-id-4 input.sk-toggleable__control:checked~label.sk-toggleable__label-arrow:before {content: \"▾\";}#sk-container-id-4 div.sk-estimator input.sk-toggleable__control:checked~label.sk-toggleable__label {background-color: #d4ebff;}#sk-container-id-4 div.sk-label input.sk-toggleable__control:checked~label.sk-toggleable__label {background-color: #d4ebff;}#sk-container-id-4 input.sk-hidden--visually {border: 0;clip: rect(1px 1px 1px 1px);clip: rect(1px, 1px, 1px, 1px);height: 1px;margin: -1px;overflow: hidden;padding: 0;position: absolute;width: 1px;}#sk-container-id-4 div.sk-estimator {font-family: monospace;background-color: #f0f8ff;border: 1px dotted black;border-radius: 0.25em;box-sizing: border-box;margin-bottom: 0.5em;}#sk-container-id-4 div.sk-estimator:hover {background-color: #d4ebff;}#sk-container-id-4 div.sk-parallel-item::after {content: \"\";width: 100%;border-bottom: 1px solid gray;flex-grow: 1;}#sk-container-id-4 div.sk-label:hover label.sk-toggleable__label {background-color: #d4ebff;}#sk-container-id-4 div.sk-serial::before {content: \"\";position: absolute;border-left: 1px solid gray;box-sizing: border-box;top: 0;bottom: 0;left: 50%;z-index: 0;}#sk-container-id-4 div.sk-serial {display: flex;flex-direction: column;align-items: center;background-color: white;padding-right: 0.2em;padding-left: 0.2em;position: relative;}#sk-container-id-4 div.sk-item {position: relative;z-index: 1;}#sk-container-id-4 div.sk-parallel {display: flex;align-items: stretch;justify-content: center;background-color: white;position: relative;}#sk-container-id-4 div.sk-item::before, #sk-container-id-4 div.sk-parallel-item::before {content: \"\";position: absolute;border-left: 1px solid gray;box-sizing: border-box;top: 0;bottom: 0;left: 50%;z-index: -1;}#sk-container-id-4 div.sk-parallel-item {display: flex;flex-direction: column;z-index: 1;position: relative;background-color: white;}#sk-container-id-4 div.sk-parallel-item:first-child::after {align-self: flex-end;width: 50%;}#sk-container-id-4 div.sk-parallel-item:last-child::after {align-self: flex-start;width: 50%;}#sk-container-id-4 div.sk-parallel-item:only-child::after {width: 0;}#sk-container-id-4 div.sk-dashed-wrapped {border: 1px dashed gray;margin: 0 0.4em 0.5em 0.4em;box-sizing: border-box;padding-bottom: 0.4em;background-color: white;}#sk-container-id-4 div.sk-label label {font-family: monospace;font-weight: bold;display: inline-block;line-height: 1.2em;}#sk-container-id-4 div.sk-label-container {text-align: center;}#sk-container-id-4 div.sk-container {/* jupyter's `normalize.less` sets `[hidden] { display: none; }` but bootstrap.min.css set `[hidden] { display: none !important; }` so we also need the `!important` here to be able to override the default hidden behavior on the sphinx rendered scikit-learn.org. See: https://github.com/scikit-learn/scikit-learn/issues/21755 */display: inline-block !important;position: relative;}#sk-container-id-4 div.sk-text-repr-fallback {display: none;}</style><div id=\"sk-container-id-4\" class=\"sk-top-container\"><div class=\"sk-text-repr-fallback\"><pre>Lasso(alpha=0.001)</pre><b>In a Jupyter environment, please rerun this cell to show the HTML representation or trust the notebook. <br />On GitHub, the HTML representation is unable to render, please try loading this page with nbviewer.org.</b></div><div class=\"sk-container\" hidden><div class=\"sk-item\"><div class=\"sk-estimator sk-toggleable\"><input class=\"sk-toggleable__control sk-hidden--visually\" id=\"sk-estimator-id-4\" type=\"checkbox\" checked><label for=\"sk-estimator-id-4\" class=\"sk-toggleable__label sk-toggleable__label-arrow\">Lasso</label><div class=\"sk-toggleable__content\"><pre>Lasso(alpha=0.001)</pre></div></div></div></div></div>"
      ],
      "text/plain": [
       "Lasso(alpha=0.001)"
      ]
     },
     "execution_count": 15,
     "metadata": {},
     "output_type": "execute_result"
    }
   ],
   "source": [
    "lassoreg = Lasso(alpha=0.001)\n",
    "lassoreg.fit(x_train,y_train)"
   ]
  },
  {
   "cell_type": "code",
   "execution_count": 16,
   "id": "d02e7cc8",
   "metadata": {
    "execution": {
     "iopub.execute_input": "2023-08-29T16:42:07.966931Z",
     "iopub.status.busy": "2023-08-29T16:42:07.966239Z",
     "iopub.status.idle": "2023-08-29T16:42:07.984821Z",
     "shell.execute_reply": "2023-08-29T16:42:07.983541Z"
    },
    "papermill": {
     "duration": 0.044669,
     "end_time": "2023-08-29T16:42:07.988759",
     "exception": false,
     "start_time": "2023-08-29T16:42:07.944090",
     "status": "completed"
    },
    "tags": []
   },
   "outputs": [
    {
     "data": {
      "text/html": [
       "<style>#sk-container-id-5 {color: black;background-color: white;}#sk-container-id-5 pre{padding: 0;}#sk-container-id-5 div.sk-toggleable {background-color: white;}#sk-container-id-5 label.sk-toggleable__label {cursor: pointer;display: block;width: 100%;margin-bottom: 0;padding: 0.3em;box-sizing: border-box;text-align: center;}#sk-container-id-5 label.sk-toggleable__label-arrow:before {content: \"▸\";float: left;margin-right: 0.25em;color: #696969;}#sk-container-id-5 label.sk-toggleable__label-arrow:hover:before {color: black;}#sk-container-id-5 div.sk-estimator:hover label.sk-toggleable__label-arrow:before {color: black;}#sk-container-id-5 div.sk-toggleable__content {max-height: 0;max-width: 0;overflow: hidden;text-align: left;background-color: #f0f8ff;}#sk-container-id-5 div.sk-toggleable__content pre {margin: 0.2em;color: black;border-radius: 0.25em;background-color: #f0f8ff;}#sk-container-id-5 input.sk-toggleable__control:checked~div.sk-toggleable__content {max-height: 200px;max-width: 100%;overflow: auto;}#sk-container-id-5 input.sk-toggleable__control:checked~label.sk-toggleable__label-arrow:before {content: \"▾\";}#sk-container-id-5 div.sk-estimator input.sk-toggleable__control:checked~label.sk-toggleable__label {background-color: #d4ebff;}#sk-container-id-5 div.sk-label input.sk-toggleable__control:checked~label.sk-toggleable__label {background-color: #d4ebff;}#sk-container-id-5 input.sk-hidden--visually {border: 0;clip: rect(1px 1px 1px 1px);clip: rect(1px, 1px, 1px, 1px);height: 1px;margin: -1px;overflow: hidden;padding: 0;position: absolute;width: 1px;}#sk-container-id-5 div.sk-estimator {font-family: monospace;background-color: #f0f8ff;border: 1px dotted black;border-radius: 0.25em;box-sizing: border-box;margin-bottom: 0.5em;}#sk-container-id-5 div.sk-estimator:hover {background-color: #d4ebff;}#sk-container-id-5 div.sk-parallel-item::after {content: \"\";width: 100%;border-bottom: 1px solid gray;flex-grow: 1;}#sk-container-id-5 div.sk-label:hover label.sk-toggleable__label {background-color: #d4ebff;}#sk-container-id-5 div.sk-serial::before {content: \"\";position: absolute;border-left: 1px solid gray;box-sizing: border-box;top: 0;bottom: 0;left: 50%;z-index: 0;}#sk-container-id-5 div.sk-serial {display: flex;flex-direction: column;align-items: center;background-color: white;padding-right: 0.2em;padding-left: 0.2em;position: relative;}#sk-container-id-5 div.sk-item {position: relative;z-index: 1;}#sk-container-id-5 div.sk-parallel {display: flex;align-items: stretch;justify-content: center;background-color: white;position: relative;}#sk-container-id-5 div.sk-item::before, #sk-container-id-5 div.sk-parallel-item::before {content: \"\";position: absolute;border-left: 1px solid gray;box-sizing: border-box;top: 0;bottom: 0;left: 50%;z-index: -1;}#sk-container-id-5 div.sk-parallel-item {display: flex;flex-direction: column;z-index: 1;position: relative;background-color: white;}#sk-container-id-5 div.sk-parallel-item:first-child::after {align-self: flex-end;width: 50%;}#sk-container-id-5 div.sk-parallel-item:last-child::after {align-self: flex-start;width: 50%;}#sk-container-id-5 div.sk-parallel-item:only-child::after {width: 0;}#sk-container-id-5 div.sk-dashed-wrapped {border: 1px dashed gray;margin: 0 0.4em 0.5em 0.4em;box-sizing: border-box;padding-bottom: 0.4em;background-color: white;}#sk-container-id-5 div.sk-label label {font-family: monospace;font-weight: bold;display: inline-block;line-height: 1.2em;}#sk-container-id-5 div.sk-label-container {text-align: center;}#sk-container-id-5 div.sk-container {/* jupyter's `normalize.less` sets `[hidden] { display: none; }` but bootstrap.min.css set `[hidden] { display: none !important; }` so we also need the `!important` here to be able to override the default hidden behavior on the sphinx rendered scikit-learn.org. See: https://github.com/scikit-learn/scikit-learn/issues/21755 */display: inline-block !important;position: relative;}#sk-container-id-5 div.sk-text-repr-fallback {display: none;}</style><div id=\"sk-container-id-5\" class=\"sk-top-container\"><div class=\"sk-text-repr-fallback\"><pre>ElasticNet()</pre><b>In a Jupyter environment, please rerun this cell to show the HTML representation or trust the notebook. <br />On GitHub, the HTML representation is unable to render, please try loading this page with nbviewer.org.</b></div><div class=\"sk-container\" hidden><div class=\"sk-item\"><div class=\"sk-estimator sk-toggleable\"><input class=\"sk-toggleable__control sk-hidden--visually\" id=\"sk-estimator-id-5\" type=\"checkbox\" checked><label for=\"sk-estimator-id-5\" class=\"sk-toggleable__label sk-toggleable__label-arrow\">ElasticNet</label><div class=\"sk-toggleable__content\"><pre>ElasticNet()</pre></div></div></div></div></div>"
      ],
      "text/plain": [
       "ElasticNet()"
      ]
     },
     "execution_count": 16,
     "metadata": {},
     "output_type": "execute_result"
    }
   ],
   "source": [
    "elasnet = ElasticNet()\n",
    "elasnet.fit(x_train,y_train)"
   ]
  },
  {
   "cell_type": "code",
   "execution_count": 17,
   "id": "b925a476",
   "metadata": {
    "execution": {
     "iopub.execute_input": "2023-08-29T16:42:08.032623Z",
     "iopub.status.busy": "2023-08-29T16:42:08.031896Z",
     "iopub.status.idle": "2023-08-29T16:42:08.063900Z",
     "shell.execute_reply": "2023-08-29T16:42:08.061677Z"
    },
    "papermill": {
     "duration": 0.058639,
     "end_time": "2023-08-29T16:42:08.068335",
     "exception": false,
     "start_time": "2023-08-29T16:42:08.009696",
     "status": "completed"
    },
    "tags": []
   },
   "outputs": [
    {
     "name": "stdout",
     "output_type": "stream",
     "text": [
      "scores:\n",
      "linear regression : 0.8467310460992706\n",
      "Ridge regression : 0.8467104777345651\n",
      "Lasso regression: 0.8468447753138417\n",
      "Elastic Net regression : -0.0004047883552189546\n"
     ]
    }
   ],
   "source": [
    "print(\"scores:\")\n",
    "print(\"linear regression : {}\".format(linreg.score(x_test,y_test)))\n",
    "print(\"Ridge regression : {}\".format(ridgereg.score(x_test,y_test)))\n",
    "print(\"Lasso regression: {}\".format(lassoreg.score(x_test,y_test)))\n",
    "print(\"Elastic Net regression : {}\".format(elasnet.score(x_test,y_test)))"
   ]
  },
  {
   "cell_type": "code",
   "execution_count": 18,
   "id": "401602a8",
   "metadata": {
    "execution": {
     "iopub.execute_input": "2023-08-29T16:42:08.122558Z",
     "iopub.status.busy": "2023-08-29T16:42:08.121809Z",
     "iopub.status.idle": "2023-08-29T16:42:08.154821Z",
     "shell.execute_reply": "2023-08-29T16:42:08.153285Z"
    },
    "papermill": {
     "duration": 0.061064,
     "end_time": "2023-08-29T16:42:08.159657",
     "exception": false,
     "start_time": "2023-08-29T16:42:08.098593",
     "status": "completed"
    },
    "tags": []
   },
   "outputs": [
    {
     "name": "stdout",
     "output_type": "stream",
     "text": [
      "0.8461229649487343\n",
      "10\n"
     ]
    }
   ],
   "source": [
    "from sklearn.linear_model import SGDRegressor\n",
    "sgd = SGDRegressor(loss='squared_error',alpha=0.001,max_iter=10000)\n",
    "sgd.fit(x_train,y_train)\n",
    "print(sgd.score(x_test,y_test))\n",
    "print(sgd.n_iter_)"
   ]
  },
  {
   "cell_type": "code",
   "execution_count": 19,
   "id": "4c1468bc",
   "metadata": {
    "execution": {
     "iopub.execute_input": "2023-08-29T16:42:08.204871Z",
     "iopub.status.busy": "2023-08-29T16:42:08.204206Z",
     "iopub.status.idle": "2023-08-29T16:42:08.499104Z",
     "shell.execute_reply": "2023-08-29T16:42:08.498147Z"
    },
    "papermill": {
     "duration": 0.320411,
     "end_time": "2023-08-29T16:42:08.501906",
     "exception": false,
     "start_time": "2023-08-29T16:42:08.181495",
     "status": "completed"
    },
    "tags": []
   },
   "outputs": [
    {
     "name": "stdout",
     "output_type": "stream",
     "text": [
      "0.8525805635873329\n"
     ]
    }
   ],
   "source": [
    "from xgboost import XGBRegressor\n",
    "model = XGBRegressor(max_depth = 3, n_estimators = 40, learning_rate = 0.15)\n",
    "model.fit(x_train, y_train)\n",
    "y_pred = model.predict(x_test)\n",
    "print(model.score(x_test,y_test))"
   ]
  },
  {
   "cell_type": "code",
   "execution_count": 20,
   "id": "3db1ad1e",
   "metadata": {
    "execution": {
     "iopub.execute_input": "2023-08-29T16:42:08.525519Z",
     "iopub.status.busy": "2023-08-29T16:42:08.525137Z",
     "iopub.status.idle": "2023-08-29T16:42:08.537838Z",
     "shell.execute_reply": "2023-08-29T16:42:08.536856Z"
    },
    "papermill": {
     "duration": 0.026844,
     "end_time": "2023-08-29T16:42:08.540520",
     "exception": false,
     "start_time": "2023-08-29T16:42:08.513676",
     "status": "completed"
    },
    "tags": []
   },
   "outputs": [
    {
     "name": "stdout",
     "output_type": "stream",
     "text": [
      "Train R2-Score : 100.0 %\n",
      "Test R2-Score : 85.0 %\n"
     ]
    }
   ],
   "source": [
    "from sklearn.metrics import r2_score\n",
    "print(f'Train R2-Score : {np.round(r2_score(y_train, model.predict(x_train)))*100} %')\n",
    "print(f'Test R2-Score : {np.round(r2_score(y_test, y_pred)*100)} %')"
   ]
  },
  {
   "cell_type": "code",
   "execution_count": 21,
   "id": "90cf05e6",
   "metadata": {
    "execution": {
     "iopub.execute_input": "2023-08-29T16:42:08.563642Z",
     "iopub.status.busy": "2023-08-29T16:42:08.563265Z",
     "iopub.status.idle": "2023-08-29T16:42:09.255621Z",
     "shell.execute_reply": "2023-08-29T16:42:09.254522Z"
    },
    "papermill": {
     "duration": 0.706432,
     "end_time": "2023-08-29T16:42:09.258195",
     "exception": false,
     "start_time": "2023-08-29T16:42:08.551763",
     "status": "completed"
    },
    "tags": []
   },
   "outputs": [],
   "source": [
    "import optuna"
   ]
  },
  {
   "cell_type": "code",
   "execution_count": 22,
   "id": "21346594",
   "metadata": {
    "execution": {
     "iopub.execute_input": "2023-08-29T16:42:09.282996Z",
     "iopub.status.busy": "2023-08-29T16:42:09.282559Z",
     "iopub.status.idle": "2023-08-29T16:42:09.291351Z",
     "shell.execute_reply": "2023-08-29T16:42:09.290321Z"
    },
    "papermill": {
     "duration": 0.022596,
     "end_time": "2023-08-29T16:42:09.293630",
     "exception": false,
     "start_time": "2023-08-29T16:42:09.271034",
     "status": "completed"
    },
    "tags": []
   },
   "outputs": [],
   "source": [
    "def objective(trial):\n",
    "    param = {\n",
    "        'max_depth': trial.suggest_int('max_depth', 1, 10),\n",
    "        'learning_rate': trial.suggest_float('learning_rate', 0.01, 1.0),\n",
    "        'n_estimators': trial.suggest_int('n_estimators', 50, 1000),\n",
    "        'min_child_weight': trial.suggest_int('min_child_weight', 1, 10),\n",
    "        'gamma': trial.suggest_float('gamma', 0.01, 1.0),\n",
    "        'subsample': trial.suggest_float('subsample', 0.01, 1.0),\n",
    "        'colsample_bytree': trial.suggest_float('colsample_bytree', 0.01, 1.0),\n",
    "        'reg_alpha': trial.suggest_float('reg_alpha', 0.01, 1.0),\n",
    "        'reg_lambda': trial.suggest_float('reg_lambda', 0.01, 1.0),\n",
    "        'random_state': trial.suggest_int('random_state', 1, 1000)\n",
    "    }\n",
    "    model1 = XGBRegressor(**param)\n",
    "    model1.fit(x_train, y_train)\n",
    "    y_pred = model1.predict(x_test)\n",
    "    return model1.score(x_test,y_test)"
   ]
  },
  {
   "cell_type": "code",
   "execution_count": 23,
   "id": "3ad99a6d",
   "metadata": {
    "_kg_hide-output": true,
    "execution": {
     "iopub.execute_input": "2023-08-29T16:42:09.316286Z",
     "iopub.status.busy": "2023-08-29T16:42:09.315454Z",
     "iopub.status.idle": "2023-08-29T16:43:35.521665Z",
     "shell.execute_reply": "2023-08-29T16:43:35.520703Z"
    },
    "papermill": {
     "duration": 86.220564,
     "end_time": "2023-08-29T16:43:35.524486",
     "exception": false,
     "start_time": "2023-08-29T16:42:09.303922",
     "status": "completed"
    },
    "tags": []
   },
   "outputs": [
    {
     "name": "stderr",
     "output_type": "stream",
     "text": [
      "[I 2023-08-29 16:42:09,318] A new study created in memory with name: regression\n",
      "[I 2023-08-29 16:42:09,648] Trial 0 finished with value: 0.7976129622184962 and parameters: {'max_depth': 2, 'learning_rate': 0.6057213566697314, 'n_estimators': 437, 'min_child_weight': 5, 'gamma': 0.5723485609238939, 'subsample': 0.3514968976470151, 'colsample_bytree': 0.3823187796909359, 'reg_alpha': 0.9869059011551289, 'reg_lambda': 0.16335044609821112, 'random_state': 91}. Best is trial 0 with value: 0.7976129622184962.\n",
      "[I 2023-08-29 16:42:12,413] Trial 1 finished with value: -1.121376458191674 and parameters: {'max_depth': 9, 'learning_rate': 0.9269746840051438, 'n_estimators': 951, 'min_child_weight': 4, 'gamma': 0.5871623239571607, 'subsample': 0.303702122239197, 'colsample_bytree': 0.6288529141447526, 'reg_alpha': 0.5585474144145678, 'reg_lambda': 0.7818218438665064, 'random_state': 262}. Best is trial 0 with value: 0.7976129622184962.\n",
      "[I 2023-08-29 16:42:12,771] Trial 2 finished with value: 0.8282645988708102 and parameters: {'max_depth': 4, 'learning_rate': 0.34412044504014794, 'n_estimators': 167, 'min_child_weight': 9, 'gamma': 0.12118075998688822, 'subsample': 0.6833310784297474, 'colsample_bytree': 0.9400086490904013, 'reg_alpha': 0.4725708554872751, 'reg_lambda': 0.1574442761200769, 'random_state': 369}. Best is trial 2 with value: 0.8282645988708102.\n",
      "[I 2023-08-29 16:42:13,274] Trial 3 finished with value: 0.8004965580395258 and parameters: {'max_depth': 4, 'learning_rate': 0.5904152162314849, 'n_estimators': 709, 'min_child_weight': 4, 'gamma': 0.690401251671947, 'subsample': 0.6820180469987995, 'colsample_bytree': 0.04718868024199007, 'reg_alpha': 0.5498819045827497, 'reg_lambda': 0.37112589131518414, 'random_state': 241}. Best is trial 2 with value: 0.8282645988708102.\n",
      "[I 2023-08-29 16:42:14,049] Trial 4 finished with value: 0.8555891816884283 and parameters: {'max_depth': 3, 'learning_rate': 0.11757967718091959, 'n_estimators': 592, 'min_child_weight': 5, 'gamma': 0.7795528302079814, 'subsample': 0.7667785334208, 'colsample_bytree': 0.5189221150490896, 'reg_alpha': 0.29156223791422275, 'reg_lambda': 0.9044259452611759, 'random_state': 211}. Best is trial 4 with value: 0.8555891816884283.\n",
      "[I 2023-08-29 16:42:14,246] Trial 5 finished with value: 0.8399004732492893 and parameters: {'max_depth': 5, 'learning_rate': 0.1589534050216164, 'n_estimators': 184, 'min_child_weight': 8, 'gamma': 0.39573752350896724, 'subsample': 0.43169317616800956, 'colsample_bytree': 0.13822924305119058, 'reg_alpha': 0.42539779746315415, 'reg_lambda': 0.8088184688450674, 'random_state': 186}. Best is trial 4 with value: 0.8555891816884283.\n",
      "[I 2023-08-29 16:42:14,846] Trial 6 finished with value: 0.805978339011606 and parameters: {'max_depth': 2, 'learning_rate': 0.9852054470199031, 'n_estimators': 606, 'min_child_weight': 6, 'gamma': 0.08585839287402139, 'subsample': 0.9359657065219674, 'colsample_bytree': 0.7232059220792277, 'reg_alpha': 0.40148463820718594, 'reg_lambda': 0.14354100159874794, 'random_state': 229}. Best is trial 4 with value: 0.8555891816884283.\n",
      "[I 2023-08-29 16:42:15,316] Trial 7 finished with value: 0.8132450060894503 and parameters: {'max_depth': 2, 'learning_rate': 0.8617474881700936, 'n_estimators': 438, 'min_child_weight': 5, 'gamma': 0.9445591739462774, 'subsample': 0.4213976595364984, 'colsample_bytree': 0.8625312202288963, 'reg_alpha': 0.7658003734369785, 'reg_lambda': 0.48801178011782165, 'random_state': 208}. Best is trial 4 with value: 0.8555891816884283.\n",
      "[I 2023-08-29 16:42:17,044] Trial 8 finished with value: 0.794038859391495 and parameters: {'max_depth': 5, 'learning_rate': 0.7685952357174547, 'n_estimators': 333, 'min_child_weight': 9, 'gamma': 0.7185461820281115, 'subsample': 0.7071375373665891, 'colsample_bytree': 0.43605561400324305, 'reg_alpha': 0.968731370966821, 'reg_lambda': 0.4965224938741165, 'random_state': 704}. Best is trial 4 with value: 0.8555891816884283.\n",
      "[I 2023-08-29 16:42:17,904] Trial 9 finished with value: 0.4951054399420578 and parameters: {'max_depth': 5, 'learning_rate': 0.815557389036127, 'n_estimators': 752, 'min_child_weight': 4, 'gamma': 0.23152802962132976, 'subsample': 0.4307387215882345, 'colsample_bytree': 0.17572348798478402, 'reg_alpha': 0.26267118015581037, 'reg_lambda': 0.055329698033566826, 'random_state': 709}. Best is trial 4 with value: 0.8555891816884283.\n",
      "[I 2023-08-29 16:42:19,338] Trial 10 finished with value: 0.7625210891813613 and parameters: {'max_depth': 8, 'learning_rate': 0.0861763325625639, 'n_estimators': 962, 'min_child_weight': 1, 'gamma': 0.9337670709462667, 'subsample': 0.035921323142807104, 'colsample_bytree': 0.5663498084973714, 'reg_alpha': 0.039021165823469706, 'reg_lambda': 0.9950422938361565, 'random_state': 510}. Best is trial 4 with value: 0.8555891816884283.\n",
      "[I 2023-08-29 16:42:19,616] Trial 11 finished with value: 0.8533216840599762 and parameters: {'max_depth': 7, 'learning_rate': 0.05130584569898668, 'n_estimators': 88, 'min_child_weight': 7, 'gamma': 0.3375038010616688, 'subsample': 0.9842959953279173, 'colsample_bytree': 0.31098074310581586, 'reg_alpha': 0.20056208365075395, 'reg_lambda': 0.7488725305656257, 'random_state': 10}. Best is trial 4 with value: 0.8555891816884283.\n",
      "[I 2023-08-29 16:42:19,842] Trial 12 finished with value: 0.6921077596130569 and parameters: {'max_depth': 8, 'learning_rate': 0.018394587834582185, 'n_estimators': 56, 'min_child_weight': 7, 'gamma': 0.3495279312705511, 'subsample': 0.95617787627643, 'colsample_bytree': 0.32676677227344836, 'reg_alpha': 0.16781672738219286, 'reg_lambda': 0.7272066353555766, 'random_state': 11}. Best is trial 4 with value: 0.8555891816884283.\n",
      "[I 2023-08-29 16:42:21,468] Trial 13 finished with value: 0.8277824376090314 and parameters: {'max_depth': 7, 'learning_rate': 0.2472784503119465, 'n_estimators': 595, 'min_child_weight': 2, 'gamma': 0.422166291710975, 'subsample': 0.8274440575009592, 'colsample_bytree': 0.4988201163390342, 'reg_alpha': 0.2669473788789527, 'reg_lambda': 0.9843983523666442, 'random_state': 509}. Best is trial 4 with value: 0.8555891816884283.\n",
      "[I 2023-08-29 16:42:22,113] Trial 14 finished with value: 0.8246493190307128 and parameters: {'max_depth': 7, 'learning_rate': 0.326040530788551, 'n_estimators': 332, 'min_child_weight': 7, 'gamma': 0.2384813455130338, 'subsample': 0.9905634252638283, 'colsample_bytree': 0.29254863801646896, 'reg_alpha': 0.040291481113899574, 'reg_lambda': 0.6886288652419349, 'random_state': 12}. Best is trial 4 with value: 0.8555891816884283.\n",
      "[I 2023-08-29 16:42:24,674] Trial 15 finished with value: 0.8530729362723924 and parameters: {'max_depth': 10, 'learning_rate': 0.02728392962081616, 'n_estimators': 798, 'min_child_weight': 10, 'gamma': 0.7957090792800129, 'subsample': 0.8285600052567115, 'colsample_bytree': 0.45344087520273196, 'reg_alpha': 0.19727282991614478, 'reg_lambda': 0.8443408522485703, 'random_state': 912}. Best is trial 4 with value: 0.8555891816884283.\n",
      "[I 2023-08-29 16:42:25,022] Trial 16 finished with value: 0.8528643474536277 and parameters: {'max_depth': 1, 'learning_rate': 0.15606189615260202, 'n_estimators': 490, 'min_child_weight': 3, 'gamma': 0.5027815076774954, 'subsample': 0.8219377868404873, 'colsample_bytree': 0.2944480816020905, 'reg_alpha': 0.33190052171373685, 'reg_lambda': 0.6244705198072336, 'random_state': 434}. Best is trial 4 with value: 0.8555891816884283.\n",
      "[I 2023-08-29 16:42:25,454] Trial 17 finished with value: 0.8263828195265592 and parameters: {'max_depth': 3, 'learning_rate': 0.3762534199348635, 'n_estimators': 264, 'min_child_weight': 6, 'gamma': 0.8404369851053087, 'subsample': 0.6112124284874006, 'colsample_bytree': 0.6786518482883885, 'reg_alpha': 0.14528108120371783, 'reg_lambda': 0.8989222595936641, 'random_state': 82}. Best is trial 4 with value: 0.8555891816884283.\n",
      "[I 2023-08-29 16:42:26,711] Trial 18 finished with value: 0.8549755030982589 and parameters: {'max_depth': 6, 'learning_rate': 0.1639768990271574, 'n_estimators': 577, 'min_child_weight': 7, 'gamma': 0.9964102562989755, 'subsample': 0.9970558628155335, 'colsample_bytree': 0.5533162576506383, 'reg_alpha': 0.350076750112717, 'reg_lambda': 0.8909273249760934, 'random_state': 355}. Best is trial 4 with value: 0.8555891816884283.\n",
      "[I 2023-08-29 16:42:28,159] Trial 19 finished with value: 0.8518498451653604 and parameters: {'max_depth': 6, 'learning_rate': 0.17138359782381635, 'n_estimators': 634, 'min_child_weight': 8, 'gamma': 0.9366970827116227, 'subsample': 0.87939297248553, 'colsample_bytree': 0.5547676283027181, 'reg_alpha': 0.5539614745866206, 'reg_lambda': 0.9141402378406527, 'random_state': 344}. Best is trial 4 with value: 0.8555891816884283.\n",
      "[I 2023-08-29 16:42:29,696] Trial 20 finished with value: 0.8361057013090337 and parameters: {'max_depth': 4, 'learning_rate': 0.4318008577341887, 'n_estimators': 815, 'min_child_weight': 6, 'gamma': 0.9798865930498009, 'subsample': 0.7698185670842419, 'colsample_bytree': 0.7565743318549942, 'reg_alpha': 0.3272970962647037, 'reg_lambda': 0.8683152428152165, 'random_state': 576}. Best is trial 4 with value: 0.8555891816884283.\n",
      "[I 2023-08-29 16:42:30,870] Trial 21 finished with value: 0.8423860490491858 and parameters: {'max_depth': 6, 'learning_rate': 0.24345896179279553, 'n_estimators': 519, 'min_child_weight': 7, 'gamma': 0.8410575436452202, 'subsample': 0.9064254295848659, 'colsample_bytree': 0.550681255969979, 'reg_alpha': 0.3393336563388149, 'reg_lambda': 0.7611787595064023, 'random_state': 127}. Best is trial 4 with value: 0.8555891816884283.\n",
      "[I 2023-08-29 16:42:32,225] Trial 22 finished with value: 0.8518065670572283 and parameters: {'max_depth': 7, 'learning_rate': 0.10427061383181041, 'n_estimators': 646, 'min_child_weight': 8, 'gamma': 0.6739868459772593, 'subsample': 0.9483886297328068, 'colsample_bytree': 0.41351161083484383, 'reg_alpha': 0.12346187736978878, 'reg_lambda': 0.8988726110664087, 'random_state': 354}. Best is trial 4 with value: 0.8555891816884283.\n",
      "[I 2023-08-29 16:42:33,230] Trial 23 finished with value: 0.8563498692290193 and parameters: {'max_depth': 6, 'learning_rate': 0.017284195928968224, 'n_estimators': 398, 'min_child_weight': 5, 'gamma': 0.7984247950490804, 'subsample': 0.972534346365606, 'colsample_bytree': 0.6209114640857362, 'reg_alpha': 0.23284318648906566, 'reg_lambda': 0.6480081181137981, 'random_state': 138}. Best is trial 23 with value: 0.8563498692290193.\n",
      "[I 2023-08-29 16:42:33,913] Trial 24 finished with value: 0.8530857653031412 and parameters: {'max_depth': 3, 'learning_rate': 0.014748783166821593, 'n_estimators': 409, 'min_child_weight': 5, 'gamma': 0.9983897456839564, 'subsample': 0.9964249319942385, 'colsample_bytree': 0.631668390225109, 'reg_alpha': 0.2609676868692464, 'reg_lambda': 0.6330276642961452, 'random_state': 298}. Best is trial 23 with value: 0.8563498692290193.\n",
      "[I 2023-08-29 16:42:35,458] Trial 25 finished with value: 0.8456239912571663 and parameters: {'max_depth': 6, 'learning_rate': 0.2503369489865931, 'n_estimators': 539, 'min_child_weight': 3, 'gamma': 0.8653710121159706, 'subsample': 0.8720139077822324, 'colsample_bytree': 0.7714504656218487, 'reg_alpha': 0.3796078277633657, 'reg_lambda': 0.9514321882905986, 'random_state': 144}. Best is trial 23 with value: 0.8563498692290193.\n",
      "[I 2023-08-29 16:42:35,939] Trial 26 finished with value: 0.8580382246954996 and parameters: {'max_depth': 3, 'learning_rate': 0.12956746394162771, 'n_estimators': 359, 'min_child_weight': 5, 'gamma': 0.7689592482528168, 'subsample': 0.8907423675008818, 'colsample_bytree': 0.5026874725634904, 'reg_alpha': 0.4812112496454102, 'reg_lambda': 0.8166074598031553, 'random_state': 408}. Best is trial 26 with value: 0.8580382246954996.\n",
      "[I 2023-08-29 16:42:36,230] Trial 27 finished with value: 0.849281855447292 and parameters: {'max_depth': 1, 'learning_rate': 0.07499999471591712, 'n_estimators': 318, 'min_child_weight': 3, 'gamma': 0.772648953635414, 'subsample': 0.7465644869391003, 'colsample_bytree': 0.49437874226167255, 'reg_alpha': 0.5042708045708753, 'reg_lambda': 0.8246126653815345, 'random_state': 995}. Best is trial 26 with value: 0.8580382246954996.\n",
      "[I 2023-08-29 16:42:36,620] Trial 28 finished with value: 0.8575662298350664 and parameters: {'max_depth': 3, 'learning_rate': 0.11886299546048851, 'n_estimators': 236, 'min_child_weight': 4, 'gamma': 0.7494920017062692, 'subsample': 0.8936543512801457, 'colsample_bytree': 0.6328164608054302, 'reg_alpha': 0.44618840460858994, 'reg_lambda': 0.6592190849880863, 'random_state': 436}. Best is trial 26 with value: 0.8580382246954996.\n",
      "[I 2023-08-29 16:42:37,015] Trial 29 finished with value: 0.8433548935853212 and parameters: {'max_depth': 3, 'learning_rate': 0.49256940384556575, 'n_estimators': 238, 'min_child_weight': 2, 'gamma': 0.6625249505945501, 'subsample': 0.891530346957252, 'colsample_bytree': 0.6285554990075323, 'reg_alpha': 0.6274093996003302, 'reg_lambda': 0.5839766580108464, 'random_state': 618}. Best is trial 26 with value: 0.8580382246954996.\n",
      "[I 2023-08-29 16:42:37,875] Trial 30 finished with value: 0.8347996175991309 and parameters: {'max_depth': 4, 'learning_rate': 0.21843153654836123, 'n_estimators': 401, 'min_child_weight': 4, 'gamma': 0.6179906416908756, 'subsample': 0.5876674294420514, 'colsample_bytree': 0.8061257490432794, 'reg_alpha': 0.4754295095883643, 'reg_lambda': 0.6916420012491981, 'random_state': 439}. Best is trial 26 with value: 0.8580382246954996.\n",
      "[I 2023-08-29 16:42:38,588] Trial 31 finished with value: 0.8542045279961048 and parameters: {'max_depth': 3, 'learning_rate': 0.11900310106369662, 'n_estimators': 463, 'min_child_weight': 5, 'gamma': 0.750904151120801, 'subsample': 0.7993266410091419, 'colsample_bytree': 0.6771166530015347, 'reg_alpha': 0.41010592263788936, 'reg_lambda': 0.8100929456916259, 'random_state': 437}. Best is trial 26 with value: 0.8580382246954996.\n",
      "[I 2023-08-29 16:42:38,943] Trial 32 finished with value: 0.8556845870426932 and parameters: {'max_depth': 2, 'learning_rate': 0.08702056605053775, 'n_estimators': 276, 'min_child_weight': 4, 'gamma': 0.7834221796115477, 'subsample': 0.8677418189029609, 'colsample_bytree': 0.6089888251459824, 'reg_alpha': 0.2806235630025107, 'reg_lambda': 0.7769059011950357, 'random_state': 304}. Best is trial 26 with value: 0.8580382246954996.\n",
      "[I 2023-08-29 16:42:39,207] Trial 33 finished with value: 0.8563669554420532 and parameters: {'max_depth': 2, 'learning_rate': 0.2967486356828908, 'n_estimators': 173, 'min_child_weight': 4, 'gamma': 0.6057438417744201, 'subsample': 0.8728303469395396, 'colsample_bytree': 0.6059451539665535, 'reg_alpha': 0.4379024266924713, 'reg_lambda': 0.758104379106655, 'random_state': 297}. Best is trial 26 with value: 0.8580382246954996.\n",
      "[I 2023-08-29 16:42:39,417] Trial 34 finished with value: 0.8503423444612143 and parameters: {'max_depth': 1, 'learning_rate': 0.2978431221025725, 'n_estimators': 153, 'min_child_weight': 3, 'gamma': 0.5392741385518821, 'subsample': 0.9198030772451793, 'colsample_bytree': 0.6917031278007078, 'reg_alpha': 0.43984205848631314, 'reg_lambda': 0.5630088651701977, 'random_state': 444}. Best is trial 26 with value: 0.8580382246954996.\n",
      "[I 2023-08-29 16:42:40,103] Trial 35 finished with value: 0.8481406420181219 and parameters: {'max_depth': 4, 'learning_rate': 0.20757630228019197, 'n_estimators': 368, 'min_child_weight': 4, 'gamma': 0.6207283833181192, 'subsample': 0.8499309553314471, 'colsample_bytree': 0.6088000489176311, 'reg_alpha': 0.4813788923069471, 'reg_lambda': 0.711523770010162, 'random_state': 283}. Best is trial 26 with value: 0.8580382246954996.\n",
      "[I 2023-08-29 16:42:40,384] Trial 36 finished with value: 0.8554325638016866 and parameters: {'max_depth': 2, 'learning_rate': 0.12775864918603072, 'n_estimators': 212, 'min_child_weight': 5, 'gamma': 0.7160113696872912, 'subsample': 0.9215468319447286, 'colsample_bytree': 0.4863518067714493, 'reg_alpha': 0.6157414020925386, 'reg_lambda': 0.66252687781853, 'random_state': 575}. Best is trial 26 with value: 0.8580382246954996.\n",
      "[I 2023-08-29 16:42:40,614] Trial 37 finished with value: 0.8533877166717881 and parameters: {'max_depth': 2, 'learning_rate': 0.30824503080571697, 'n_estimators': 124, 'min_child_weight': 2, 'gamma': 0.5830914776131841, 'subsample': 0.7457048471895485, 'colsample_bytree': 0.6555288483232166, 'reg_alpha': 0.4413855019025786, 'reg_lambda': 0.7577298811223873, 'random_state': 388}. Best is trial 26 with value: 0.8580382246954996.\n",
      "[I 2023-08-29 16:42:41,191] Trial 38 finished with value: 0.8575534941866739 and parameters: {'max_depth': 4, 'learning_rate': 0.06048714081942149, 'n_estimators': 280, 'min_child_weight': 6, 'gamma': 0.6724469000328144, 'subsample': 0.7965477623728076, 'colsample_bytree': 0.7178931791016026, 'reg_alpha': 0.5276981194679323, 'reg_lambda': 0.8053220801329606, 'random_state': 162}. Best is trial 26 with value: 0.8580382246954996.\n",
      "[I 2023-08-29 16:42:41,694] Trial 39 finished with value: 0.8517738476053125 and parameters: {'max_depth': 4, 'learning_rate': 0.19397414341339256, 'n_estimators': 192, 'min_child_weight': 6, 'gamma': 0.6422678671961607, 'subsample': 0.7892029885827659, 'colsample_bytree': 0.9679098265395771, 'reg_alpha': 0.5295870286096785, 'reg_lambda': 0.8118173438388466, 'random_state': 233}. Best is trial 26 with value: 0.8580382246954996.\n",
      "[I 2023-08-29 16:42:42,234] Trial 40 finished with value: 0.8554512142248395 and parameters: {'max_depth': 3, 'learning_rate': 0.13718466746761324, 'n_estimators': 293, 'min_child_weight': 6, 'gamma': 0.7262242569814554, 'subsample': 0.6980616597755821, 'colsample_bytree': 0.8548488733122184, 'reg_alpha': 0.5987396143714225, 'reg_lambda': 0.8459723197790556, 'random_state': 79}. Best is trial 26 with value: 0.8580382246954996.\n",
      "[I 2023-08-29 16:42:43,110] Trial 41 finished with value: 0.8570159882062983 and parameters: {'max_depth': 5, 'learning_rate': 0.06213889580151434, 'n_estimators': 374, 'min_child_weight': 4, 'gamma': 0.6972984381847442, 'subsample': 0.9427293888549695, 'colsample_bytree': 0.7361214022385302, 'reg_alpha': 0.3905737631995907, 'reg_lambda': 0.7374373584104018, 'random_state': 169}. Best is trial 26 with value: 0.8580382246954996.\n",
      "[I 2023-08-29 16:42:43,830] Trial 42 finished with value: 0.8542127871193939 and parameters: {'max_depth': 5, 'learning_rate': 0.06943862017205353, 'n_estimators': 243, 'min_child_weight': 4, 'gamma': 0.7113741972616068, 'subsample': 0.9026789732719954, 'colsample_bytree': 0.7171619211021919, 'reg_alpha': 0.3967971964794239, 'reg_lambda': 0.7203094592647934, 'random_state': 251}. Best is trial 26 with value: 0.8580382246954996.\n",
      "[I 2023-08-29 16:42:44,178] Trial 43 finished with value: 0.8546325151468356 and parameters: {'max_depth': 4, 'learning_rate': 0.07157337972795944, 'n_estimators': 138, 'min_child_weight': 3, 'gamma': 0.6784359815656241, 'subsample': 0.8564097205783804, 'colsample_bytree': 0.7543959946463067, 'reg_alpha': 0.4575176708452822, 'reg_lambda': 0.7990956917452885, 'random_state': 182}. Best is trial 26 with value: 0.8580382246954996.\n",
      "[I 2023-08-29 16:42:45,013] Trial 44 finished with value: 0.852739265879384 and parameters: {'max_depth': 5, 'learning_rate': 0.12470605796739682, 'n_estimators': 349, 'min_child_weight': 5, 'gamma': 0.5820683577954701, 'subsample': 0.9345676894421349, 'colsample_bytree': 0.7257383086164143, 'reg_alpha': 0.5138497340944098, 'reg_lambda': 0.7687966520753378, 'random_state': 182}. Best is trial 26 with value: 0.8580382246954996.\n",
      "[I 2023-08-29 16:42:45,388] Trial 45 finished with value: 0.8506272489121909 and parameters: {'max_depth': 3, 'learning_rate': 0.18633014801396947, 'n_estimators': 221, 'min_child_weight': 4, 'gamma': 0.6378707775144634, 'subsample': 0.825027929446362, 'colsample_bytree': 0.5789515800487762, 'reg_alpha': 0.37156248317884677, 'reg_lambda': 0.7104224074556574, 'random_state': 320}. Best is trial 26 with value: 0.8580382246954996.\n",
      "[I 2023-08-29 16:42:45,585] Trial 46 finished with value: 0.8513980444045427 and parameters: {'max_depth': 2, 'learning_rate': 0.05394371680482232, 'n_estimators': 84, 'min_child_weight': 4, 'gamma': 0.7298759021839463, 'subsample': 0.7366830838125551, 'colsample_bytree': 0.6623146702460275, 'reg_alpha': 0.4314873161670761, 'reg_lambda': 0.7402956043173279, 'random_state': 388}. Best is trial 26 with value: 0.8580382246954996.\n",
      "[I 2023-08-29 16:42:46,096] Trial 47 finished with value: 0.8570523481809238 and parameters: {'max_depth': 5, 'learning_rate': 0.2681976855972845, 'n_estimators': 171, 'min_child_weight': 5, 'gamma': 0.6850724575695926, 'subsample': 0.7980958315800792, 'colsample_bytree': 0.8243088374149231, 'reg_alpha': 0.5728925541260004, 'reg_lambda': 0.8517552131696293, 'random_state': 482}. Best is trial 26 with value: 0.8580382246954996.\n",
      "[I 2023-08-29 16:42:46,977] Trial 48 finished with value: 0.853625126944773 and parameters: {'max_depth': 5, 'learning_rate': 0.1083115314066199, 'n_estimators': 309, 'min_child_weight': 6, 'gamma': 0.692893011288902, 'subsample': 0.794997178279235, 'colsample_bytree': 0.9216713996402456, 'reg_alpha': 0.5833718161596749, 'reg_lambda': 0.8542474334177399, 'random_state': 693}. Best is trial 26 with value: 0.8580382246954996.\n",
      "[I 2023-08-29 16:42:48,931] Trial 49 finished with value: 0.8524581487607014 and parameters: {'max_depth': 4, 'learning_rate': 0.051483216303662614, 'n_estimators': 362, 'min_child_weight': 5, 'gamma': 0.875935513425567, 'subsample': 0.6398162627580863, 'colsample_bytree': 0.8266177330098031, 'reg_alpha': 0.6633732913362292, 'reg_lambda': 0.9229740342997002, 'random_state': 546}. Best is trial 26 with value: 0.8580382246954996.\n",
      "[I 2023-08-29 16:42:50,069] Trial 50 finished with value: 0.854470905487674 and parameters: {'max_depth': 5, 'learning_rate': 0.14779935095747085, 'n_estimators': 444, 'min_child_weight': 6, 'gamma': 0.7549707781239146, 'subsample': 0.942645652057786, 'colsample_bytree': 0.8813863687495087, 'reg_alpha': 0.5364484990633873, 'reg_lambda': 0.4408995961402334, 'random_state': 473}. Best is trial 26 with value: 0.8580382246954996.\n",
      "[I 2023-08-29 16:42:50,520] Trial 51 finished with value: 0.8413148730747585 and parameters: {'max_depth': 4, 'learning_rate': 0.2692992587689607, 'n_estimators': 180, 'min_child_weight': 4, 'gamma': 0.5329442670330327, 'subsample': 0.8419789066599811, 'colsample_bytree': 0.7955700162029754, 'reg_alpha': 0.4873824810208728, 'reg_lambda': 0.7910675017292885, 'random_state': 267}. Best is trial 26 with value: 0.8580382246954996.\n",
      "[I 2023-08-29 16:42:50,757] Trial 52 finished with value: 0.8560046823850695 and parameters: {'max_depth': 2, 'learning_rate': 0.21180610533757055, 'n_estimators': 122, 'min_child_weight': 5, 'gamma': 0.611048815179701, 'subsample': 0.8955798084494465, 'colsample_bytree': 0.7161693351410171, 'reg_alpha': 0.4169439852998147, 'reg_lambda': 0.8583832659096, 'random_state': 397}. Best is trial 26 with value: 0.8580382246954996.\n",
      "[I 2023-08-29 16:42:51,255] Trial 53 finished with value: 0.845562795217305 and parameters: {'max_depth': 3, 'learning_rate': 0.35831847308510645, 'n_estimators': 277, 'min_child_weight': 3, 'gamma': 0.6783768884383342, 'subsample': 0.8036740848564898, 'colsample_bytree': 0.7733896203312944, 'reg_alpha': 0.5526361157528742, 'reg_lambda': 0.6773848083972004, 'random_state': 52}. Best is trial 26 with value: 0.8580382246954996.\n",
      "[I 2023-08-29 16:42:51,452] Trial 54 finished with value: 0.8550783960911367 and parameters: {'max_depth': 4, 'learning_rate': 0.1692958461739669, 'n_estimators': 51, 'min_child_weight': 5, 'gamma': 0.652571544141914, 'subsample': 0.9611820875225624, 'colsample_bytree': 0.5807368358454251, 'reg_alpha': 0.47257131275179404, 'reg_lambda': 0.8237860517350872, 'random_state': 655}. Best is trial 26 with value: 0.8580382246954996.\n",
      "[I 2023-08-29 16:42:51,945] Trial 55 finished with value: 0.8421809499559878 and parameters: {'max_depth': 5, 'learning_rate': 0.2741164000193438, 'n_estimators': 175, 'min_child_weight': 4, 'gamma': 0.8104985485111914, 'subsample': 0.7166120405470334, 'colsample_bytree': 0.6973570318757556, 'reg_alpha': 0.5044085266503479, 'reg_lambda': 0.7566913127963318, 'random_state': 771}. Best is trial 26 with value: 0.8580382246954996.\n",
      "[I 2023-08-29 16:42:53,175] Trial 56 finished with value: 0.8426858822427585 and parameters: {'max_depth': 3, 'learning_rate': 0.23604626249352323, 'n_estimators': 999, 'min_child_weight': 5, 'gamma': 0.6965658854166096, 'subsample': 0.7693221851171365, 'colsample_bytree': 0.5253359974830902, 'reg_alpha': 0.3681813346554454, 'reg_lambda': 0.9487901118695136, 'random_state': 209}. Best is trial 26 with value: 0.8580382246954996.\n",
      "[I 2023-08-29 16:42:53,476] Trial 57 finished with value: 0.8496132537046063 and parameters: {'max_depth': 1, 'learning_rate': 0.09886021225528147, 'n_estimators': 206, 'min_child_weight': 6, 'gamma': 0.7472688009717008, 'subsample': 0.8539936222705385, 'colsample_bytree': 0.8180065854533637, 'reg_alpha': 0.3088243129841715, 'reg_lambda': 0.8708674895586593, 'random_state': 496}. Best is trial 26 with value: 0.8580382246954996.\n",
      "[I 2023-08-29 16:42:54,053] Trial 58 finished with value: 0.8506937387858713 and parameters: {'max_depth': 4, 'learning_rate': 0.16579469659850674, 'n_estimators': 254, 'min_child_weight': 1, 'gamma': 0.6100358352811373, 'subsample': 0.9611591288339862, 'colsample_bytree': 0.7378515531010305, 'reg_alpha': 0.39729143854431337, 'reg_lambda': 0.7318769231370313, 'random_state': 326}. Best is trial 26 with value: 0.8580382246954996.\n",
      "[I 2023-08-29 16:42:54,516] Trial 59 finished with value: 0.7602356062350043 and parameters: {'max_depth': 10, 'learning_rate': 0.013091514267760895, 'n_estimators': 98, 'min_child_weight': 4, 'gamma': 0.5502272301042225, 'subsample': 0.8908794567366324, 'colsample_bytree': 0.6541475670337793, 'reg_alpha': 0.560689323852949, 'reg_lambda': 0.6769967009890931, 'random_state': 532}. Best is trial 26 with value: 0.8580382246954996.\n",
      "[I 2023-08-29 16:42:55,320] Trial 60 finished with value: 0.840544122052472 and parameters: {'max_depth': 5, 'learning_rate': 0.3888671999214569, 'n_estimators': 306, 'min_child_weight': 7, 'gamma': 0.8165577035117095, 'subsample': 0.6634871036714609, 'colsample_bytree': 0.75906756134025, 'reg_alpha': 0.4606560568480067, 'reg_lambda': 0.7943159171064761, 'random_state': 479}. Best is trial 26 with value: 0.8580382246954996.\n",
      "[I 2023-08-29 16:42:56,271] Trial 61 finished with value: 0.8586738736395434 and parameters: {'max_depth': 6, 'learning_rate': 0.039337120871488065, 'n_estimators': 386, 'min_child_weight': 5, 'gamma': 0.7814650571986131, 'subsample': 0.9706490395910004, 'colsample_bytree': 0.6002522682212007, 'reg_alpha': 0.34143225307779457, 'reg_lambda': 0.6435944336111273, 'random_state': 148}. Best is trial 61 with value: 0.8586738736395434.\n",
      "[I 2023-08-29 16:42:57,163] Trial 62 finished with value: 0.8562371572449975 and parameters: {'max_depth': 6, 'learning_rate': 0.046794273886921416, 'n_estimators': 379, 'min_child_weight': 5, 'gamma': 0.7680869459392748, 'subsample': 0.9783277470573631, 'colsample_bytree': 0.5309615874101259, 'reg_alpha': 0.33729779915236985, 'reg_lambda': 0.6222000234620908, 'random_state': 158}. Best is trial 61 with value: 0.8586738736395434.\n",
      "[I 2023-08-29 16:42:58,496] Trial 63 finished with value: 0.8531130946123524 and parameters: {'max_depth': 7, 'learning_rate': 0.09898886754677994, 'n_estimators': 481, 'min_child_weight': 4, 'gamma': 0.7335597337959516, 'subsample': 0.920885448989056, 'colsample_bytree': 0.5727937830041855, 'reg_alpha': 0.3633480631296493, 'reg_lambda': 0.7079290217250932, 'random_state': 105}. Best is trial 61 with value: 0.8586738736395434.\n",
      "[I 2023-08-29 16:43:00,023] Trial 64 finished with value: 0.8515017718146964 and parameters: {'max_depth': 8, 'learning_rate': 0.04188537227556878, 'n_estimators': 420, 'min_child_weight': 5, 'gamma': 0.6569171604375644, 'subsample': 0.8819774541723733, 'colsample_bytree': 0.694470776693646, 'reg_alpha': 0.41455928195122943, 'reg_lambda': 0.7677572214913179, 'random_state': 413}. Best is trial 61 with value: 0.8586738736395434.\n",
      "[I 2023-08-29 16:43:00,915] Trial 65 finished with value: 0.8573045062381476 and parameters: {'max_depth': 6, 'learning_rate': 0.14341025303990934, 'n_estimators': 325, 'min_child_weight': 6, 'gamma': 0.7014177560181665, 'subsample': 0.8228198028461665, 'colsample_bytree': 0.6398491619986121, 'reg_alpha': 0.5114242262544656, 'reg_lambda': 0.8283076747527497, 'random_state': 44}. Best is trial 61 with value: 0.8586738736395434.\n",
      "[I 2023-08-29 16:43:01,825] Trial 66 finished with value: 0.8509081940788178 and parameters: {'max_depth': 6, 'learning_rate': 0.14197142566528276, 'n_estimators': 336, 'min_child_weight': 7, 'gamma': 0.7843176551001254, 'subsample': 0.8234760549404982, 'colsample_bytree': 0.6464972412034294, 'reg_alpha': 0.5199872330189474, 'reg_lambda': 0.8308246031728196, 'random_state': 65}. Best is trial 61 with value: 0.8586738736395434.\n",
      "[I 2023-08-29 16:43:03,075] Trial 67 finished with value: 0.8562455875812993 and parameters: {'max_depth': 6, 'learning_rate': 0.07875862475412068, 'n_estimators': 535, 'min_child_weight': 6, 'gamma': 0.6983949962548314, 'subsample': 0.9952093226917087, 'colsample_bytree': 0.5974400245935023, 'reg_alpha': 0.6587864598386337, 'reg_lambda': 0.8812347324114298, 'random_state': 111}. Best is trial 61 with value: 0.8586738736395434.\n",
      "[I 2023-08-29 16:43:04,163] Trial 68 finished with value: 0.856698735480834 and parameters: {'max_depth': 7, 'learning_rate': 0.03497307672680486, 'n_estimators': 384, 'min_child_weight': 8, 'gamma': 0.8298550966707425, 'subsample': 0.9491315153846372, 'colsample_bytree': 0.4615510438633489, 'reg_alpha': 0.491833295665879, 'reg_lambda': 0.8269766445164164, 'random_state': 215}. Best is trial 61 with value: 0.8586738736395434.\n",
      "[I 2023-08-29 16:43:05,159] Trial 69 finished with value: 0.8502246456529003 and parameters: {'max_depth': 5, 'learning_rate': 0.19485650212998135, 'n_estimators': 446, 'min_child_weight': 6, 'gamma': 0.8643217219853285, 'subsample': 0.920000461236109, 'colsample_bytree': 0.6787806839746281, 'reg_alpha': 0.2994145244943013, 'reg_lambda': 0.6632145612647035, 'random_state': 41}. Best is trial 61 with value: 0.8586738736395434.\n",
      "[I 2023-08-29 16:43:06,084] Trial 70 finished with value: 0.8536500368730311 and parameters: {'max_depth': 6, 'learning_rate': 0.11146052848958098, 'n_estimators': 335, 'min_child_weight': 6, 'gamma': 0.7696952993882269, 'subsample': 0.7735251649746279, 'colsample_bytree': 0.6289154204331157, 'reg_alpha': 0.5683569590150933, 'reg_lambda': 0.7315618631053268, 'random_state': 147}. Best is trial 61 with value: 0.8586738736395434.\n",
      "[I 2023-08-29 16:43:07,061] Trial 71 finished with value: 0.8559737585238489 and parameters: {'max_depth': 7, 'learning_rate': 0.03685962345268555, 'n_estimators': 374, 'min_child_weight': 9, 'gamma': 0.8257678253446763, 'subsample': 0.9480422547389367, 'colsample_bytree': 0.5083525084134058, 'reg_alpha': 0.49522529152979045, 'reg_lambda': 0.8271788796848535, 'random_state': 23}. Best is trial 61 with value: 0.8586738736395434.\n",
      "[I 2023-08-29 16:43:07,798] Trial 72 finished with value: 0.8550756403349482 and parameters: {'max_depth': 7, 'learning_rate': 0.0764502026875814, 'n_estimators': 277, 'min_child_weight': 8, 'gamma': 0.7928727792445767, 'subsample': 0.8532785722956189, 'colsample_bytree': 0.45575239651584765, 'reg_alpha': 0.4577619199101065, 'reg_lambda': 0.7899018774372779, 'random_state': 189}. Best is trial 61 with value: 0.8586738736395434.\n",
      "[I 2023-08-29 16:43:09,100] Trial 73 finished with value: 0.8560852260073052 and parameters: {'max_depth': 9, 'learning_rate': 0.016962137869380427, 'n_estimators': 398, 'min_child_weight': 10, 'gamma': 0.7470571714986932, 'subsample': 0.9730747672526135, 'colsample_bytree': 0.5499890784308816, 'reg_alpha': 0.5176166989341373, 'reg_lambda': 0.8765105181000284, 'random_state': 103}. Best is trial 61 with value: 0.8586738736395434.\n",
      "[I 2023-08-29 16:43:09,782] Trial 74 finished with value: 0.8428283155144107 and parameters: {'max_depth': 8, 'learning_rate': 0.15555510656679078, 'n_estimators': 230, 'min_child_weight': 5, 'gamma': 0.8907387728822819, 'subsample': 0.9055499462891491, 'colsample_bytree': 0.39213466256581686, 'reg_alpha': 0.3876632600510096, 'reg_lambda': 0.9192230604762741, 'random_state': 227}. Best is trial 61 with value: 0.8586738736395434.\n",
      "[I 2023-08-29 16:43:10,914] Trial 75 finished with value: 0.8575408928119949 and parameters: {'max_depth': 6, 'learning_rate': 0.05267950963765464, 'n_estimators': 511, 'min_child_weight': 7, 'gamma': 0.8424746634549997, 'subsample': 0.8200410625743287, 'colsample_bytree': 0.47850753259034373, 'reg_alpha': 0.5461998674191517, 'reg_lambda': 0.8477050038737725, 'random_state': 1}. Best is trial 61 with value: 0.8586738736395434.\n",
      "[I 2023-08-29 16:43:12,148] Trial 76 finished with value: 0.8542914836027694 and parameters: {'max_depth': 6, 'learning_rate': 0.13164217545135065, 'n_estimators': 497, 'min_child_weight': 7, 'gamma': 0.7186286710268441, 'subsample': 0.8311305060599237, 'colsample_bytree': 0.5957797148339281, 'reg_alpha': 0.5515422492550633, 'reg_lambda': 0.893955362296969, 'random_state': 2}. Best is trial 61 with value: 0.8586738736395434.\n",
      "[I 2023-08-29 16:43:13,706] Trial 77 finished with value: 0.85241070494326 and parameters: {'max_depth': 5, 'learning_rate': 0.09100812052553064, 'n_estimators': 702, 'min_child_weight': 7, 'gamma': 0.9033198634550059, 'subsample': 0.8172112640234677, 'colsample_bytree': 0.6368113011924057, 'reg_alpha': 0.44165745676860013, 'reg_lambda': 0.8473711481479356, 'random_state': 40}. Best is trial 61 with value: 0.8586738736395434.\n",
      "[I 2023-08-29 16:43:14,351] Trial 78 finished with value: 0.8563930035244246 and parameters: {'max_depth': 5, 'learning_rate': 0.056819294334824764, 'n_estimators': 295, 'min_child_weight': 6, 'gamma': 0.847349341163418, 'subsample': 0.8768330919617534, 'colsample_bytree': 0.5381104733021665, 'reg_alpha': 0.5878077264100392, 'reg_lambda': 0.7858905108697217, 'random_state': 77}. Best is trial 61 with value: 0.8586738736395434.\n",
      "[I 2023-08-29 16:43:15,142] Trial 79 finished with value: 0.8495542138437127 and parameters: {'max_depth': 6, 'learning_rate': 0.17876001780202727, 'n_estimators': 323, 'min_child_weight': 5, 'gamma': 0.8002062003383011, 'subsample': 0.7847088270472269, 'colsample_bytree': 0.48198452534446046, 'reg_alpha': 0.5251643313527484, 'reg_lambda': 0.7457447213045425, 'random_state': 124}. Best is trial 61 with value: 0.8586738736395434.\n",
      "[I 2023-08-29 16:43:16,549] Trial 80 finished with value: 0.8482565777393791 and parameters: {'max_depth': 4, 'learning_rate': 0.11216041303212027, 'n_estimators': 867, 'min_child_weight': 6, 'gamma': 0.6720380858827525, 'subsample': 0.7493549827549684, 'colsample_bytree': 0.5627179934321285, 'reg_alpha': 0.3494157905560293, 'reg_lambda': 0.7014343939788297, 'random_state': 592}. Best is trial 61 with value: 0.8586738736395434.\n",
      "[I 2023-08-29 16:43:17,545] Trial 81 finished with value: 0.8545721722372589 and parameters: {'max_depth': 7, 'learning_rate': 0.01086253107272031, 'n_estimators': 385, 'min_child_weight': 8, 'gamma': 0.8445459781316778, 'subsample': 0.936634003388757, 'colsample_bytree': 0.45864125670058425, 'reg_alpha': 0.488419230087884, 'reg_lambda': 0.8192183990425068, 'random_state': 170}. Best is trial 61 with value: 0.8586738736395434.\n",
      "[I 2023-08-29 16:43:18,548] Trial 82 finished with value: 0.8538620891914014 and parameters: {'max_depth': 7, 'learning_rate': 0.04362030728450447, 'n_estimators': 423, 'min_child_weight': 9, 'gamma': 0.8207299317684741, 'subsample': 0.902745075397706, 'colsample_bytree': 0.4232756873015404, 'reg_alpha': 0.466936480406896, 'reg_lambda': 0.848237282864254, 'random_state': 260}. Best is trial 61 with value: 0.8586738736395434.\n",
      "[I 2023-08-29 16:43:20,812] Trial 83 finished with value: 0.8551374313842345 and parameters: {'max_depth': 6, 'learning_rate': 0.06833731677246485, 'n_estimators': 471, 'min_child_weight': 7, 'gamma': 0.756887839909733, 'subsample': 0.8615251519572039, 'colsample_bytree': 0.516094101277842, 'reg_alpha': 0.5397359484149091, 'reg_lambda': 0.812803423889207, 'random_state': 459}. Best is trial 61 with value: 0.8586738736395434.\n",
      "[I 2023-08-29 16:43:21,765] Trial 84 finished with value: 0.8563060976666663 and parameters: {'max_depth': 5, 'learning_rate': 0.08510340662728166, 'n_estimators': 510, 'min_child_weight': 8, 'gamma': 0.707888897054216, 'subsample': 0.9506041817825316, 'colsample_bytree': 0.47952878623943973, 'reg_alpha': 0.49524510643424313, 'reg_lambda': 0.7835352130986986, 'random_state': 89}. Best is trial 61 with value: 0.8586738736395434.\n",
      "[I 2023-08-29 16:43:23,764] Trial 85 finished with value: 0.8505183842615205 and parameters: {'max_depth': 8, 'learning_rate': 0.1228582322988459, 'n_estimators': 560, 'min_child_weight': 9, 'gamma': 0.7736554586511182, 'subsample': 0.8110999234006311, 'colsample_bytree': 0.662015726521419, 'reg_alpha': 0.42969243961715864, 'reg_lambda': 0.8663672036416397, 'random_state': 207}. Best is trial 61 with value: 0.8586738736395434.\n",
      "[I 2023-08-29 16:43:24,490] Trial 86 finished with value: 0.8564345911711888 and parameters: {'max_depth': 6, 'learning_rate': 0.031507099742508704, 'n_estimators': 355, 'min_child_weight': 8, 'gamma': 0.7292690170214396, 'subsample': 0.9970911661268476, 'colsample_bytree': 0.3573802890637474, 'reg_alpha': 0.3897172240496726, 'reg_lambda': 0.737862298519615, 'random_state': 134}. Best is trial 61 with value: 0.8586738736395434.\n",
      "[I 2023-08-29 16:43:24,909] Trial 87 finished with value: 0.8536693206163332 and parameters: {'max_depth': 3, 'learning_rate': 0.1477912046250421, 'n_estimators': 261, 'min_child_weight': 7, 'gamma': 0.7985070353206232, 'subsample': 0.9280031006837143, 'colsample_bytree': 0.5101505699020871, 'reg_alpha': 0.5809202939372733, 'reg_lambda': 0.8367323278701363, 'random_state': 24}. Best is trial 61 with value: 0.8586738736395434.\n",
      "[I 2023-08-29 16:43:26,299] Trial 88 finished with value: 0.8524202017449809 and parameters: {'max_depth': 7, 'learning_rate': 0.09555087938918175, 'n_estimators': 458, 'min_child_weight': 5, 'gamma': 0.6852918782404629, 'subsample': 0.8419525945005366, 'colsample_bytree': 0.6153174653381785, 'reg_alpha': 0.413642962701132, 'reg_lambda': 0.9002119227300278, 'random_state': 375}. Best is trial 61 with value: 0.8586738736395434.\n",
      "[I 2023-08-29 16:43:26,901] Trial 89 finished with value: 0.8557545709559942 and parameters: {'max_depth': 4, 'learning_rate': 0.038089689854067604, 'n_estimators': 284, 'min_child_weight': 3, 'gamma': 0.9145631381232745, 'subsample': 0.9712178737715896, 'colsample_bytree': 0.7017787400364189, 'reg_alpha': 0.5392264272955204, 'reg_lambda': 0.7711880220350474, 'random_state': 57}. Best is trial 61 with value: 0.8586738736395434.\n",
      "[I 2023-08-29 16:43:27,676] Trial 90 finished with value: 0.8568003273679298 and parameters: {'max_depth': 3, 'learning_rate': 0.05882513687608715, 'n_estimators': 639, 'min_child_weight': 4, 'gamma': 0.6476842312871433, 'subsample': 0.8943281609736271, 'colsample_bytree': 0.43911217542625425, 'reg_alpha': 0.606502593476471, 'reg_lambda': 0.9371903339954359, 'random_state': 414}. Best is trial 61 with value: 0.8586738736395434.\n",
      "[I 2023-08-29 16:43:28,543] Trial 91 finished with value: 0.8576871199543081 and parameters: {'max_depth': 3, 'learning_rate': 0.06530798395994637, 'n_estimators': 710, 'min_child_weight': 4, 'gamma': 0.6418228224154348, 'subsample': 0.8887558251371968, 'colsample_bytree': 0.4609441196268113, 'reg_alpha': 0.49942842208284527, 'reg_lambda': 0.9503758348328717, 'random_state': 418}. Best is trial 61 with value: 0.8586738736395434.\n",
      "[I 2023-08-29 16:43:29,361] Trial 92 finished with value: 0.8566390584220587 and parameters: {'max_depth': 3, 'learning_rate': 0.06400508285477834, 'n_estimators': 674, 'min_child_weight': 4, 'gamma': 0.6512237357906516, 'subsample': 0.875355812927248, 'colsample_bytree': 0.43168898300199465, 'reg_alpha': 0.6187663944452781, 'reg_lambda': 0.9893896741448949, 'random_state': 423}. Best is trial 61 with value: 0.8586738736395434.\n",
      "[I 2023-08-29 16:43:30,293] Trial 93 finished with value: 0.8563540317348267 and parameters: {'max_depth': 3, 'learning_rate': 0.1339066785505746, 'n_estimators': 604, 'min_child_weight': 3, 'gamma': 0.7081747483014782, 'subsample': 0.9048809801178501, 'colsample_bytree': 0.7326466137547687, 'reg_alpha': 0.6029222952128528, 'reg_lambda': 0.9395584025980176, 'random_state': 523}. Best is trial 61 with value: 0.8586738736395434.\n",
      "[I 2023-08-29 16:43:31,197] Trial 94 finished with value: 0.853445928049797 and parameters: {'max_depth': 3, 'learning_rate': 0.10703781577025615, 'n_estimators': 765, 'min_child_weight': 4, 'gamma': 0.6300220721479592, 'subsample': 0.8353512628360672, 'colsample_bytree': 0.41299083213173954, 'reg_alpha': 0.5657685488035978, 'reg_lambda': 0.9705584369957051, 'random_state': 352}. Best is trial 61 with value: 0.8586738736395434.\n",
      "[I 2023-08-29 16:43:32,064] Trial 95 finished with value: 0.8548635071907045 and parameters: {'max_depth': 3, 'learning_rate': 0.06575288714921879, 'n_estimators': 632, 'min_child_weight': 5, 'gamma': 0.5945299724749393, 'subsample': 0.7909368550471971, 'colsample_bytree': 0.546437923215537, 'reg_alpha': 0.5174772737397033, 'reg_lambda': 0.9102500558438961, 'random_state': 480}. Best is trial 61 with value: 0.8586738736395434.\n",
      "[I 2023-08-29 16:43:32,863] Trial 96 finished with value: 0.8554149504751101 and parameters: {'max_depth': 2, 'learning_rate': 0.16645188894813184, 'n_estimators': 657, 'min_child_weight': 4, 'gamma': 0.671611296605877, 'subsample': 0.879294015086497, 'colsample_bytree': 0.7810048414286901, 'reg_alpha': 0.4739443448353975, 'reg_lambda': 0.9347092544283113, 'random_state': 412}. Best is trial 61 with value: 0.8586738736395434.\n",
      "[I 2023-08-29 16:43:34,359] Trial 97 finished with value: 0.8508421081352939 and parameters: {'max_depth': 4, 'learning_rate': 0.08726164150588896, 'n_estimators': 822, 'min_child_weight': 4, 'gamma': 0.6367004087656862, 'subsample': 0.8032966330321348, 'colsample_bytree': 0.585206959095664, 'reg_alpha': 0.5428103988056193, 'reg_lambda': 0.8798832838168285, 'random_state': 449}. Best is trial 61 with value: 0.8586738736395434.\n",
      "[I 2023-08-29 16:43:35,111] Trial 98 finished with value: 0.8574831802970415 and parameters: {'max_depth': 3, 'learning_rate': 0.11648417626476346, 'n_estimators': 568, 'min_child_weight': 5, 'gamma': 0.6915360837581487, 'subsample': 0.862861170551342, 'colsample_bytree': 0.49972206426270593, 'reg_alpha': 0.4478147926908607, 'reg_lambda': 0.9198549008374768, 'random_state': 760}. Best is trial 61 with value: 0.8586738736395434.\n",
      "[I 2023-08-29 16:43:35,516] Trial 99 finished with value: 0.8536731047906863 and parameters: {'max_depth': 5, 'learning_rate': 0.18087569172188175, 'n_estimators': 153, 'min_child_weight': 5, 'gamma': 0.7456369042500972, 'subsample': 0.8529200997483533, 'colsample_bytree': 0.4960070095638078, 'reg_alpha': 0.4492793981299115, 'reg_lambda': 0.9721420779912238, 'random_state': 793}. Best is trial 61 with value: 0.8586738736395434.\n"
     ]
    }
   ],
   "source": [
    "study = optuna.create_study(direction='maximize', study_name='regression')\n",
    "study.optimize(objective, n_trials=100)"
   ]
  },
  {
   "cell_type": "code",
   "execution_count": 24,
   "id": "cd15310f",
   "metadata": {
    "execution": {
     "iopub.execute_input": "2023-08-29T16:43:35.566940Z",
     "iopub.status.busy": "2023-08-29T16:43:35.566504Z",
     "iopub.status.idle": "2023-08-29T16:43:36.411038Z",
     "shell.execute_reply": "2023-08-29T16:43:36.410135Z"
    },
    "papermill": {
     "duration": 0.868308,
     "end_time": "2023-08-29T16:43:36.413701",
     "exception": false,
     "start_time": "2023-08-29T16:43:35.545393",
     "status": "completed"
    },
    "tags": []
   },
   "outputs": [],
   "source": [
    "model1 = XGBRegressor(**study.best_params)\n",
    "model1.fit(x_train, y_train)\n",
    "y_pred = model1.predict(x_test)"
   ]
  },
  {
   "cell_type": "code",
   "execution_count": 25,
   "id": "b8853683",
   "metadata": {
    "execution": {
     "iopub.execute_input": "2023-08-29T16:43:36.456963Z",
     "iopub.status.busy": "2023-08-29T16:43:36.456540Z",
     "iopub.status.idle": "2023-08-29T16:43:36.472768Z",
     "shell.execute_reply": "2023-08-29T16:43:36.471766Z"
    },
    "papermill": {
     "duration": 0.039752,
     "end_time": "2023-08-29T16:43:36.475333",
     "exception": false,
     "start_time": "2023-08-29T16:43:36.435581",
     "status": "completed"
    },
    "tags": []
   },
   "outputs": [
    {
     "name": "stdout",
     "output_type": "stream",
     "text": [
      "0.8586738736395434\n",
      "Train R2-Score : 100.0 %\n",
      "Test R2-Score : 86.0 %\n"
     ]
    }
   ],
   "source": [
    "print(model1.score(x_test,y_test))\n",
    "print(f'Train R2-Score : {np.round(r2_score(y_train, model1.predict(x_train)))*100} %')\n",
    "print(f'Test R2-Score : {np.round(r2_score(y_test, y_pred)*100)} %')"
   ]
  }
 ],
 "metadata": {
  "kernelspec": {
   "display_name": "Python 3",
   "language": "python",
   "name": "python3"
  },
  "language_info": {
   "codemirror_mode": {
    "name": "ipython",
    "version": 3
   },
   "file_extension": ".py",
   "mimetype": "text/x-python",
   "name": "python",
   "nbconvert_exporter": "python",
   "pygments_lexer": "ipython3",
   "version": "3.10.12"
  },
  "papermill": {
   "default_parameters": {},
   "duration": 103.963493,
   "end_time": "2023-08-29T16:43:37.621728",
   "environment_variables": {},
   "exception": null,
   "input_path": "__notebook__.ipynb",
   "output_path": "__notebook__.ipynb",
   "parameters": {},
   "start_time": "2023-08-29T16:41:53.658235",
   "version": "2.4.0"
  }
 },
 "nbformat": 4,
 "nbformat_minor": 5
}
