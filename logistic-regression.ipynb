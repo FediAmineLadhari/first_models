{
 "metadata": {
  "kernelspec": {
   "language": "python",
   "display_name": "Python 3",
   "name": "python3"
  },
  "language_info": {
   "name": "python",
   "version": "3.10.12",
   "mimetype": "text/x-python",
   "codemirror_mode": {
    "name": "ipython",
    "version": 3
   },
   "pygments_lexer": "ipython3",
   "nbconvert_exporter": "python",
   "file_extension": ".py"
  }
 },
 "nbformat_minor": 4,
 "nbformat": 4,
 "cells": [
  {
   "cell_type": "code",
   "source": [
    "# This Python 3 environment comes with many helpful analytics libraries installed\n",
    "# It is defined by the kaggle/python Docker image: https://github.com/kaggle/docker-python\n",
    "# For example, here's several helpful packages to load\n",
    "\n",
    "import numpy as np # linear algebra\n",
    "import pandas as pd # data processing, CSV file I/O (e.g. pd.read_csv)\n",
    "\n",
    "# Input data files are available in the read-only \"../input/\" directory\n",
    "# For example, running this (by clicking run or pressing Shift+Enter) will list all files under the input directory\n",
    "\n",
    "import os\n",
    "for dirname, _, filenames in os.walk('/kaggle/input'):\n",
    "    for filename in filenames:\n",
    "        print(os.path.join(dirname, filename))\n",
    "\n",
    "# You can write up to 20GB to the current directory (/kaggle/working/) that gets preserved as output when you create a version using \"Save & Run All\" \n",
    "# You can also write temporary files to /kaggle/temp/, but they won't be saved outside of the current session"
   ],
   "metadata": {
    "_uuid": "8f2839f25d086af736a60e9eeb907d3b93b6e0e5",
    "_cell_guid": "b1076dfc-b9ad-4769-8c92-a6c4dae69d19",
    "execution": {
     "iopub.status.busy": "2023-08-18T16:35:50.654427Z",
     "iopub.execute_input": "2023-08-18T16:35:50.654780Z",
     "iopub.status.idle": "2023-08-18T16:35:50.672995Z",
     "shell.execute_reply.started": "2023-08-18T16:35:50.654757Z",
     "shell.execute_reply": "2023-08-18T16:35:50.671509Z"
    },
    "trusted": true
   },
   "execution_count": 63,
   "outputs": [
    {
     "name": "stdout",
     "text": "/kaggle/input/mushroom-classification/mushrooms.csv\n",
     "output_type": "stream"
    }
   ]
  },
  {
   "cell_type": "code",
   "source": [
    "data=pd.read_csv(\"/kaggle/input/mushroom-classification/mushrooms.csv\")"
   ],
   "metadata": {
    "execution": {
     "iopub.status.busy": "2023-08-18T16:35:50.675807Z",
     "iopub.execute_input": "2023-08-18T16:35:50.676579Z",
     "iopub.status.idle": "2023-08-18T16:35:50.705714Z",
     "shell.execute_reply.started": "2023-08-18T16:35:50.676535Z",
     "shell.execute_reply": "2023-08-18T16:35:50.703664Z"
    },
    "trusted": true
   },
   "execution_count": 64,
   "outputs": []
  },
  {
   "cell_type": "code",
   "source": [
    "from sklearn.preprocessing import OrdinalEncoder\n",
    "encoder = OrdinalEncoder()\n",
    "encoder.fit(data)\n",
    "mushroom = encoder.transform(data)"
   ],
   "metadata": {
    "execution": {
     "iopub.status.busy": "2023-08-18T16:35:50.707278Z",
     "iopub.execute_input": "2023-08-18T16:35:50.707723Z",
     "iopub.status.idle": "2023-08-18T16:35:50.768985Z",
     "shell.execute_reply.started": "2023-08-18T16:35:50.707689Z",
     "shell.execute_reply": "2023-08-18T16:35:50.766891Z"
    },
    "trusted": true
   },
   "execution_count": 65,
   "outputs": []
  },
  {
   "cell_type": "code",
   "source": [
    "mushrooms = pd.DataFrame(mushroom, index=data.index, columns=data.columns)"
   ],
   "metadata": {
    "execution": {
     "iopub.status.busy": "2023-08-18T16:35:50.773284Z",
     "iopub.execute_input": "2023-08-18T16:35:50.773916Z",
     "iopub.status.idle": "2023-08-18T16:35:50.781498Z",
     "shell.execute_reply.started": "2023-08-18T16:35:50.773865Z",
     "shell.execute_reply": "2023-08-18T16:35:50.779810Z"
    },
    "trusted": true
   },
   "execution_count": 66,
   "outputs": []
  },
  {
   "cell_type": "code",
   "source": [
    "from sklearn.model_selection import train_test_split\n",
    "x_train, x_test, y_train, y_test = train_test_split(mushrooms.drop('class',axis=1), mushrooms['class'], test_size=0.25)"
   ],
   "metadata": {
    "execution": {
     "iopub.status.busy": "2023-08-18T16:35:50.783095Z",
     "iopub.execute_input": "2023-08-18T16:35:50.784704Z",
     "iopub.status.idle": "2023-08-18T16:35:50.802237Z",
     "shell.execute_reply.started": "2023-08-18T16:35:50.784618Z",
     "shell.execute_reply": "2023-08-18T16:35:50.800618Z"
    },
    "trusted": true
   },
   "execution_count": 67,
   "outputs": []
  },
  {
   "cell_type": "code",
   "source": [
    "print(x_test)"
   ],
   "metadata": {
    "execution": {
     "iopub.status.busy": "2023-08-18T16:35:50.804034Z",
     "iopub.execute_input": "2023-08-18T16:35:50.804440Z",
     "iopub.status.idle": "2023-08-18T16:35:50.828985Z",
     "shell.execute_reply.started": "2023-08-18T16:35:50.804413Z",
     "shell.execute_reply": "2023-08-18T16:35:50.828026Z"
    },
    "trusted": true
   },
   "execution_count": 68,
   "outputs": [
    {
     "name": "stdout",
     "text": "      cap-shape  cap-surface  cap-color  bruises  odor  gill-attachment  \\\n6577        2.0          2.0        4.0      0.0   8.0              1.0   \n3216        2.0          3.0        3.0      1.0   5.0              1.0   \n6451        5.0          2.0        2.0      0.0   8.0              1.0   \n833         5.0          3.0        9.0      1.0   3.0              1.0   \n6702        2.0          3.0        4.0      0.0   7.0              1.0   \n...         ...          ...        ...      ...   ...              ...   \n4643        5.0          0.0        9.0      0.0   2.0              1.0   \n3339        5.0          0.0        3.0      0.0   2.0              1.0   \n3732        2.0          3.0        4.0      1.0   5.0              1.0   \n6191        5.0          2.0        4.0      0.0   2.0              1.0   \n1108        0.0          3.0        9.0      1.0   3.0              1.0   \n\n      gill-spacing  gill-size  gill-color  stalk-shape  ...  \\\n6577           0.0        1.0         0.0          1.0  ...   \n3216           0.0        0.0        10.0          1.0  ...   \n6451           0.0        1.0         0.0          1.0  ...   \n833            0.0        0.0        10.0          0.0  ...   \n6702           0.0        1.0         0.0          1.0  ...   \n...            ...        ...         ...          ...  ...   \n4643           0.0        0.0         2.0          0.0  ...   \n3339           0.0        0.0         2.0          0.0  ...   \n3732           0.0        0.0         5.0          1.0  ...   \n6191           0.0        1.0         0.0          1.0  ...   \n1108           0.0        0.0         4.0          0.0  ...   \n\n      stalk-surface-below-ring  stalk-color-above-ring  \\\n6577                       1.0                     6.0   \n3216                       2.0                     3.0   \n6451                       1.0                     6.0   \n833                        3.0                     7.0   \n6702                       1.0                     7.0   \n...                        ...                     ...   \n4643                       1.0                     0.0   \n3339                       1.0                     6.0   \n3732                       2.0                     3.0   \n6191                       1.0                     6.0   \n1108                       2.0                     7.0   \n\n      stalk-color-below-ring  veil-type  veil-color  ring-number  ring-type  \\\n6577                     6.0        0.0         2.0          1.0        0.0   \n3216                     3.0        0.0         2.0          1.0        4.0   \n6451                     7.0        0.0         2.0          1.0        0.0   \n833                      7.0        0.0         2.0          1.0        4.0   \n6702                     7.0        0.0         2.0          1.0        0.0   \n...                      ...        ...         ...          ...        ...   \n4643                     4.0        0.0         2.0          1.0        2.0   \n3339                     4.0        0.0         2.0          1.0        2.0   \n3732                     3.0        0.0         2.0          1.0        4.0   \n6191                     7.0        0.0         2.0          1.0        0.0   \n1108                     7.0        0.0         2.0          1.0        4.0   \n\n      spore-print-color  population  habitat  \n6577                7.0         4.0      2.0  \n3216                2.0         4.0      0.0  \n6451                7.0         4.0      2.0  \n833                 3.0         3.0      1.0  \n6702                7.0         4.0      0.0  \n...                 ...         ...      ...  \n4643                1.0         4.0      1.0  \n3339                1.0         4.0      0.0  \n3732                2.0         5.0      0.0  \n6191                7.0         4.0      2.0  \n1108                3.0         2.0      1.0  \n\n[2031 rows x 22 columns]\n",
     "output_type": "stream"
    }
   ]
  },
  {
   "cell_type": "code",
   "source": [
    "from sklearn.linear_model import LogisticRegression\n",
    "# Create the LogisticRegression object\n",
    "model = LogisticRegression(max_iter=10000)\n",
    "# Fit the model to the training data\n",
    "model.fit(x_train, y_train)\n",
    "\n",
    "# Predict the target variable for the testing data\n",
    "y_pred = model.predict(x_test)\n",
    "\n",
    "# Evaluate the model performance\n",
    "print(model.score(x_test, y_test))"
   ],
   "metadata": {
    "execution": {
     "iopub.status.busy": "2023-08-18T16:36:25.112142Z",
     "iopub.execute_input": "2023-08-18T16:36:25.112524Z",
     "iopub.status.idle": "2023-08-18T16:36:25.391525Z",
     "shell.execute_reply.started": "2023-08-18T16:36:25.112493Z",
     "shell.execute_reply": "2023-08-18T16:36:25.390631Z"
    },
    "trusted": true
   },
   "execution_count": 71,
   "outputs": [
    {
     "name": "stdout",
     "text": "0.9517479074347612\n",
     "output_type": "stream"
    }
   ]
  }
 ]
}
